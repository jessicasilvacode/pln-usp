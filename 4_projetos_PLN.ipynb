{
  "nbformat": 4,
  "nbformat_minor": 0,
  "metadata": {
    "colab": {
      "name": "4_projetos_PLN.ipynb",
      "provenance": [],
      "authorship_tag": "ABX9TyMdpBESMDXHWV5JgMcjhL8p"
    },
    "kernelspec": {
      "name": "python3",
      "display_name": "Python 3"
    },
    "language_info": {
      "name": "python"
    }
  },
  "cells": [
    {
      "cell_type": "markdown",
      "metadata": {
        "id": "uhsLByYt_7Av"
      },
      "source": [
        "### Curso de extensão em **Python para Processamento de Linguagem Natural (PLN)** da Universidade de São Paulo (USP)\n",
        "\n",
        "Instrutor: [Prof. Thiago A. S. Pardo](https://sites.icmc.usp.br/taspardo/)\n",
        "\n",
        "Feito por [Jessica Silva](https://www.linkedin.com/in/leaojjessica/), em maio de 2021."
      ]
    }
  ]
}