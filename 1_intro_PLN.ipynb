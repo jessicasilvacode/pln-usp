{
  "nbformat": 4,
  "nbformat_minor": 0,
  "metadata": {
    "colab": {
      "name": "1_intro_PLN.ipynb",
      "provenance": [],
      "mount_file_id": "16q9oN8OF1utPSIJAErJ3ZXqmRTR61uOz",
      "authorship_tag": "ABX9TyMJQ0RYRXump6B8JdX9yyIE"
    },
    "kernelspec": {
      "name": "python3",
      "display_name": "Python 3"
    },
    "language_info": {
      "name": "python"
    }
  },
  "cells": [
    {
      "cell_type": "markdown",
      "metadata": {
        "id": "j9_Ct9m-n6C1"
      },
      "source": [
        "# **Curso de extensão: Python para Processamento de Linguagem Natural (PLN) ➜ USP**\n",
        "\n"
      ]
    },
    {
      "cell_type": "markdown",
      "metadata": {
        "id": "W6oLlwVWoH-c"
      },
      "source": [
        "Leitura introdutória: [Speech and Language Processing](https://www.researchgate.net/publication/200111340_Speech_and_Language_Processing_An_Introduction_to_Natural_Language_Processing_Computational_Linguistics_and_Speech_Recognition)\n"
      ]
    },
    {
      "cell_type": "markdown",
      "metadata": {
        "id": "_vqni62Qt-Qu"
      },
      "source": [
        "## Introdução"
      ]
    },
    {
      "cell_type": "markdown",
      "metadata": {
        "id": "7CfXxJetqBHk"
      },
      "source": [
        "Em uma linguagem informal, podemos dizer que o processamento de linguagem natural seria como \"instruir um computador a ler e a escrever\", e isso inclui ser capaz de interpretar textos, traduzir automaticamente, sugerir possíveis sinônimos, revisar ortografia e gramática, buscar respostas para perguntas, sumarizar, auxiliar à escrita, o aprendizado de línguas, e as atividades humanas em geral. É a área de interseção entre a computação e a linguística.\n"
      ]
    },
    {
      "cell_type": "markdown",
      "metadata": {
        "id": "jf80vm3ssfle"
      },
      "source": [
        "A linguagem natural tenta sempre se aproximar da linguagem humana, em oposição às linguagens artificais (matemática, lógica, programação). Trabalha-se com a língua, ou seja, com o código de comunicação, seja português, inglês, LIBRAS, ou qualquer outra língua, com suas regras específicas. **Não** trabalha-se com linguagem, comunicação e suas manifestações, fala, gestos, música, dança, sorriso; envolve o aparato físico e mental/cognitivo."
      ]
    },
    {
      "cell_type": "markdown",
      "metadata": {
        "id": "2r4p4umolkt4"
      },
      "source": [
        "O trabalho de  Processamento de Linguagem Natural é dividido em etapas e isso ajuda a organizar o trabalho para que os elementos sejam colocados em suas devidas caixas. **Fase linguística:** teorias e dados linguísticos; **Fase representacional:** formalismos e esquemas de representação; e **Fase Implementacional:** métodos e modelos computacionais; utilizando recursos, ferramentas e aplicações em suas respectivas fases."
      ]
    },
    {
      "cell_type": "markdown",
      "metadata": {
        "id": "IlE1Z1F2vY7b"
      },
      "source": [
        "### **Uso de Python no Processamento de Linguagem Natural:**"
      ]
    },
    {
      "cell_type": "markdown",
      "metadata": {
        "id": "szb59hCIzUG7"
      },
      "source": [
        "### **Introdução a linguagem Python**"
      ]
    },
    {
      "cell_type": "markdown",
      "metadata": {
        "id": "f45gPnH00Zrb"
      },
      "source": [
        "### Variáveis e tipos de variáveis"
      ]
    },
    {
      "cell_type": "code",
      "metadata": {
        "id": "WOkx7f35vy0T",
        "colab": {
          "base_uri": "https://localhost:8080/"
        },
        "outputId": "c9819db6-0d52-429f-c09b-e6b56f260266"
      },
      "source": [
        "print('Oi!')"
      ],
      "execution_count": null,
      "outputs": [
        {
          "output_type": "stream",
          "text": [
            "Oi!\n"
          ],
          "name": "stdout"
        }
      ]
    },
    {
      "cell_type": "code",
      "metadata": {
        "id": "CFnPHoM_uGgE",
        "colab": {
          "base_uri": "https://localhost:8080/"
        },
        "outputId": "9b01d1f9-11fe-4ee1-b8a6-dcb31b42826a"
      },
      "source": [
        "print(type('Oi!'))\n",
        "print(type(10))\n",
        "print(type(1.0))\n",
        "print(type(True))\n",
        "print(type(10 > 2))"
      ],
      "execution_count": null,
      "outputs": [
        {
          "output_type": "stream",
          "text": [
            "<class 'str'>\n",
            "<class 'int'>\n",
            "<class 'float'>\n",
            "<class 'bool'>\n",
            "<class 'bool'>\n"
          ],
          "name": "stdout"
        }
      ]
    },
    {
      "cell_type": "code",
      "metadata": {
        "id": "KO7lRVKwn7bO",
        "colab": {
          "base_uri": "https://localhost:8080/"
        },
        "outputId": "5656bc07-416f-4597-fdaf-782874125d69"
      },
      "source": [
        "a = 10\n",
        "b = 'PLN'\n",
        "c = 10 > 2\n",
        "d = 1.0\n",
        "\n",
        "print(type(a))\n",
        "print(type(b))\n",
        "print(type(c))\n",
        "print(type(d))"
      ],
      "execution_count": null,
      "outputs": [
        {
          "output_type": "stream",
          "text": [
            "<class 'int'>\n",
            "<class 'str'>\n",
            "<class 'bool'>\n",
            "<class 'float'>\n"
          ],
          "name": "stdout"
        }
      ]
    },
    {
      "cell_type": "code",
      "metadata": {
        "colab": {
          "base_uri": "https://localhost:8080/"
        },
        "id": "PtDDZEMY0FAb",
        "outputId": "16bc6ffe-78be-4b94-b24e-c72bc8d43fbf"
      },
      "source": [
        "a = 10\n",
        "e = '10'\n",
        "\n",
        "f = a + int(e) \n",
        "print(f)"
      ],
      "execution_count": null,
      "outputs": [
        {
          "output_type": "stream",
          "text": [
            "20\n"
          ],
          "name": "stdout"
        }
      ]
    },
    {
      "cell_type": "code",
      "metadata": {
        "colab": {
          "base_uri": "https://localhost:8080/"
        },
        "id": "jdRxIPuu0J_8",
        "outputId": "27996721-6cc6-43fb-d309-f02c5301945b"
      },
      "source": [
        "a = 10\n",
        "e = '10'\n",
        "\n",
        "f = str(a) + e \n",
        "print(f)"
      ],
      "execution_count": null,
      "outputs": [
        {
          "output_type": "stream",
          "text": [
            "1010\n"
          ],
          "name": "stdout"
        }
      ]
    },
    {
      "cell_type": "code",
      "metadata": {
        "colab": {
          "base_uri": "https://localhost:8080/"
        },
        "id": "Urn8PYXf0RFK",
        "outputId": "72f2c316-2394-4329-d0a7-053005386e7b"
      },
      "source": [
        "resultado = a + d\n",
        "print(resultado)"
      ],
      "execution_count": null,
      "outputs": [
        {
          "output_type": "stream",
          "text": [
            "11.0\n"
          ],
          "name": "stdout"
        }
      ]
    },
    {
      "cell_type": "markdown",
      "metadata": {
        "id": "NMK_xRT10WAh"
      },
      "source": [
        "### Condicionais:"
      ]
    },
    {
      "cell_type": "code",
      "metadata": {
        "colab": {
          "base_uri": "https://localhost:8080/"
        },
        "id": "gSVh8OlS0S67",
        "outputId": "3c78d200-2be4-4cd7-8ee9-df72eb72adb6"
      },
      "source": [
        "numero = 10\n",
        "\n",
        "if numero > 10:\n",
        "  print('O número é maior que 10')\n",
        "elif numero == 10:\n",
        "  print('O numero é igual a 10')\n",
        "else:\n",
        "  print('O número não é maior que 10')"
      ],
      "execution_count": null,
      "outputs": [
        {
          "output_type": "stream",
          "text": [
            "O numero é igual a 10\n"
          ],
          "name": "stdout"
        }
      ]
    },
    {
      "cell_type": "markdown",
      "metadata": {
        "id": "dgc1Utsc0d4V"
      },
      "source": [
        "### Listas e tuplas:"
      ]
    },
    {
      "cell_type": "code",
      "metadata": {
        "colab": {
          "base_uri": "https://localhost:8080/"
        },
        "id": "ha2hd2NU0c9b",
        "outputId": "a24479bd-91b6-4fad-c207-35e37eddcf52"
      },
      "source": [
        "lista = []\n",
        "tupla = ()\n",
        "\n",
        "print(type(lista))\n",
        "print(type(tupla))"
      ],
      "execution_count": null,
      "outputs": [
        {
          "output_type": "stream",
          "text": [
            "<class 'list'>\n",
            "<class 'tuple'>\n"
          ],
          "name": "stdout"
        }
      ]
    },
    {
      "cell_type": "code",
      "metadata": {
        "colab": {
          "base_uri": "https://localhost:8080/"
        },
        "id": "0CYZCDg40hRo",
        "outputId": "680027de-49d0-4bcd-dd66-87e43ae61d6d"
      },
      "source": [
        "lista = [1, 2, 3]\n",
        "print(lista)"
      ],
      "execution_count": null,
      "outputs": [
        {
          "output_type": "stream",
          "text": [
            "[1, 2, 3]\n"
          ],
          "name": "stdout"
        }
      ]
    },
    {
      "cell_type": "code",
      "metadata": {
        "colab": {
          "base_uri": "https://localhost:8080/"
        },
        "id": "rD5FER540hio",
        "outputId": "31379222-cc74-4936-d6e2-947317491a61"
      },
      "source": [
        "tupla = (1, 2, 3)\n",
        "print(tupla)"
      ],
      "execution_count": null,
      "outputs": [
        {
          "output_type": "stream",
          "text": [
            "(1, 2, 3)\n"
          ],
          "name": "stdout"
        }
      ]
    },
    {
      "cell_type": "code",
      "metadata": {
        "colab": {
          "base_uri": "https://localhost:8080/"
        },
        "id": "vNxE0--30jML",
        "outputId": "47542f4d-50d3-4e9c-f382-af07d6293249"
      },
      "source": [
        "lista [0]"
      ],
      "execution_count": null,
      "outputs": [
        {
          "output_type": "execute_result",
          "data": {
            "text/plain": [
              "1"
            ]
          },
          "metadata": {
            "tags": []
          },
          "execution_count": 82
        }
      ]
    },
    {
      "cell_type": "code",
      "metadata": {
        "colab": {
          "base_uri": "https://localhost:8080/"
        },
        "id": "D1wqcBFs0mIp",
        "outputId": "68bff38d-0b42-46f6-9aba-8a01eef75372"
      },
      "source": [
        "lista [2]"
      ],
      "execution_count": null,
      "outputs": [
        {
          "output_type": "execute_result",
          "data": {
            "text/plain": [
              "3"
            ]
          },
          "metadata": {
            "tags": []
          },
          "execution_count": 83
        }
      ]
    },
    {
      "cell_type": "code",
      "metadata": {
        "colab": {
          "base_uri": "https://localhost:8080/"
        },
        "id": "kVLLzZsM0nW4",
        "outputId": "0e74b17d-8ea1-4438-badf-aa03d87c1bb2"
      },
      "source": [
        "print(list(range(10)))"
      ],
      "execution_count": null,
      "outputs": [
        {
          "output_type": "stream",
          "text": [
            "[0, 1, 2, 3, 4, 5, 6, 7, 8, 9]\n"
          ],
          "name": "stdout"
        }
      ]
    },
    {
      "cell_type": "code",
      "metadata": {
        "colab": {
          "base_uri": "https://localhost:8080/"
        },
        "id": "wLgqpzqZ0swt",
        "outputId": "fd804171-16be-44ab-9666-a5cffce314d1"
      },
      "source": [
        "print(lista)\n",
        "lista.append(5)\n",
        "print(lista)"
      ],
      "execution_count": null,
      "outputs": [
        {
          "output_type": "stream",
          "text": [
            "[1, 2, 3]\n",
            "[1, 2, 3, 5]\n"
          ],
          "name": "stdout"
        }
      ]
    },
    {
      "cell_type": "code",
      "metadata": {
        "colab": {
          "base_uri": "https://localhost:8080/"
        },
        "id": "pu5Q7K_M0uf4",
        "outputId": "d1ee3ace-98e7-4199-abbe-ac59b234dfd8"
      },
      "source": [
        "lista.reverse()\n",
        "print(lista)"
      ],
      "execution_count": null,
      "outputs": [
        {
          "output_type": "stream",
          "text": [
            "[5, 3, 2, 1]\n"
          ],
          "name": "stdout"
        }
      ]
    },
    {
      "cell_type": "code",
      "metadata": {
        "colab": {
          "base_uri": "https://localhost:8080/"
        },
        "id": "X2ryfBpQ0xoB",
        "outputId": "99d1bf04-8b9b-4aa4-a22c-1da4e2e9bee1"
      },
      "source": [
        "lista[-1] = 7\n",
        "print(lista)"
      ],
      "execution_count": null,
      "outputs": [
        {
          "output_type": "stream",
          "text": [
            "[5, 3, 2, 7]\n"
          ],
          "name": "stdout"
        }
      ]
    },
    {
      "cell_type": "code",
      "metadata": {
        "colab": {
          "base_uri": "https://localhost:8080/"
        },
        "id": "4gUGDptA06hq",
        "outputId": "55af8e42-1276-4172-e9ec-b47ab92ec59d"
      },
      "source": [
        "lista.sort()\n",
        "print(lista)"
      ],
      "execution_count": null,
      "outputs": [
        {
          "output_type": "stream",
          "text": [
            "[2, 3, 5, 7]\n"
          ],
          "name": "stdout"
        }
      ]
    },
    {
      "cell_type": "code",
      "metadata": {
        "colab": {
          "base_uri": "https://localhost:8080/"
        },
        "id": "mWoS-zU_08UX",
        "outputId": "48f55237-8920-491f-d7e1-0e35d7f25194"
      },
      "source": [
        "add = list(range(5))\n",
        "print(add)\n",
        "lista.extend(add)\n",
        "print(lista)"
      ],
      "execution_count": null,
      "outputs": [
        {
          "output_type": "stream",
          "text": [
            "[0, 1, 2, 3, 4]\n",
            "[2, 3, 5, 7, 0, 1, 2, 3, 4]\n"
          ],
          "name": "stdout"
        }
      ]
    },
    {
      "cell_type": "code",
      "metadata": {
        "colab": {
          "base_uri": "https://localhost:8080/"
        },
        "id": "TedxGUrW0_t8",
        "outputId": "c22398a6-96bc-404e-d970-9fab4a4e8cc7"
      },
      "source": [
        "lista.remove(1)\n",
        "print(lista)"
      ],
      "execution_count": null,
      "outputs": [
        {
          "output_type": "stream",
          "text": [
            "[2, 3, 5, 7, 0, 2, 3, 4]\n"
          ],
          "name": "stdout"
        }
      ]
    },
    {
      "cell_type": "code",
      "metadata": {
        "colab": {
          "base_uri": "https://localhost:8080/"
        },
        "id": "azrugxgO1CwU",
        "outputId": "64b535b8-860a-4fb6-b04d-9c8174d03e63"
      },
      "source": [
        "print(lista.index(4))"
      ],
      "execution_count": null,
      "outputs": [
        {
          "output_type": "stream",
          "text": [
            "7\n"
          ],
          "name": "stdout"
        }
      ]
    },
    {
      "cell_type": "code",
      "metadata": {
        "colab": {
          "base_uri": "https://localhost:8080/"
        },
        "id": "Ce1B0LFv1FU3",
        "outputId": "cdc01acc-d2cd-4c70-90b0-8e1fe1581fc0"
      },
      "source": [
        "print(lista.count(5))"
      ],
      "execution_count": null,
      "outputs": [
        {
          "output_type": "stream",
          "text": [
            "1\n"
          ],
          "name": "stdout"
        }
      ]
    },
    {
      "cell_type": "code",
      "metadata": {
        "colab": {
          "base_uri": "https://localhost:8080/"
        },
        "id": "KbC-4UlB5WOr",
        "outputId": "c513580e-5fad-4c61-eff9-9cbfaa21f1aa"
      },
      "source": [
        "print(lista)\n",
        "lista.pop(1)\n",
        "lista"
      ],
      "execution_count": null,
      "outputs": [
        {
          "output_type": "stream",
          "text": [
            "[2, 3, 5, 7, 0, 2, 3, 4]\n"
          ],
          "name": "stdout"
        },
        {
          "output_type": "execute_result",
          "data": {
            "text/plain": [
              "[2, 5, 7, 0, 2, 3, 4]"
            ]
          },
          "metadata": {
            "tags": []
          },
          "execution_count": 93
        }
      ]
    },
    {
      "cell_type": "code",
      "metadata": {
        "colab": {
          "base_uri": "https://localhost:8080/"
        },
        "id": "vku-eis55eui",
        "outputId": "06bf6ae7-f828-4fe3-ce96-95b056176565"
      },
      "source": [
        "print(lista)\n",
        "lista.pop(-1)\n",
        "lista"
      ],
      "execution_count": null,
      "outputs": [
        {
          "output_type": "stream",
          "text": [
            "[2, 5, 7, 0, 2, 3, 4]\n"
          ],
          "name": "stdout"
        },
        {
          "output_type": "execute_result",
          "data": {
            "text/plain": [
              "[2, 5, 7, 0, 2, 3]"
            ]
          },
          "metadata": {
            "tags": []
          },
          "execution_count": 94
        }
      ]
    },
    {
      "cell_type": "code",
      "metadata": {
        "colab": {
          "base_uri": "https://localhost:8080/"
        },
        "id": "6urSDIy95lIF",
        "outputId": "dd6daea3-cbfe-4b66-d3c9-e0c8a0078962"
      },
      "source": [
        "lista [0] = 20\n",
        "lista"
      ],
      "execution_count": null,
      "outputs": [
        {
          "output_type": "execute_result",
          "data": {
            "text/plain": [
              "[20, 5, 7, 0, 2, 3]"
            ]
          },
          "metadata": {
            "tags": []
          },
          "execution_count": 95
        }
      ]
    },
    {
      "cell_type": "code",
      "metadata": {
        "colab": {
          "base_uri": "https://localhost:8080/"
        },
        "id": "7jLofjwP6Hso",
        "outputId": "97aae3a6-641a-48b5-9a65-4d4b04a3796d"
      },
      "source": [
        "print(tupla)\n",
        "tupla [1]"
      ],
      "execution_count": null,
      "outputs": [
        {
          "output_type": "stream",
          "text": [
            "(1, 2, 3)\n"
          ],
          "name": "stdout"
        },
        {
          "output_type": "execute_result",
          "data": {
            "text/plain": [
              "2"
            ]
          },
          "metadata": {
            "tags": []
          },
          "execution_count": 96
        }
      ]
    },
    {
      "cell_type": "code",
      "metadata": {
        "colab": {
          "base_uri": "https://localhost:8080/",
          "height": 178
        },
        "id": "WNVgorcu6V8e",
        "outputId": "b9c65439-3f4d-4c11-b18f-fb3a4d0ad2c3"
      },
      "source": [
        "tupla [1] = 0\n",
        "tupla"
      ],
      "execution_count": null,
      "outputs": [
        {
          "output_type": "error",
          "ename": "TypeError",
          "evalue": "ignored",
          "traceback": [
            "\u001b[0;31m---------------------------------------------------------------------------\u001b[0m",
            "\u001b[0;31mTypeError\u001b[0m                                 Traceback (most recent call last)",
            "\u001b[0;32m<ipython-input-97-1f014390874c>\u001b[0m in \u001b[0;36m<module>\u001b[0;34m()\u001b[0m\n\u001b[0;32m----> 1\u001b[0;31m \u001b[0mtupla\u001b[0m \u001b[0;34m[\u001b[0m\u001b[0;36m1\u001b[0m\u001b[0;34m]\u001b[0m \u001b[0;34m=\u001b[0m \u001b[0;36m0\u001b[0m\u001b[0;34m\u001b[0m\u001b[0;34m\u001b[0m\u001b[0m\n\u001b[0m\u001b[1;32m      2\u001b[0m \u001b[0mtupla\u001b[0m\u001b[0;34m\u001b[0m\u001b[0;34m\u001b[0m\u001b[0m\n",
            "\u001b[0;31mTypeError\u001b[0m: 'tuple' object does not support item assignment"
          ]
        }
      ]
    },
    {
      "cell_type": "code",
      "metadata": {
        "colab": {
          "base_uri": "https://localhost:8080/"
        },
        "id": "Md5pP7HU6gIn",
        "outputId": "65309205-568a-4ff0-d11b-3148e2ad37a1"
      },
      "source": [
        "#converter em lista\n",
        "nova = list(tupla)\n",
        "nova"
      ],
      "execution_count": null,
      "outputs": [
        {
          "output_type": "execute_result",
          "data": {
            "text/plain": [
              "[1, 2, 3]"
            ]
          },
          "metadata": {
            "tags": []
          },
          "execution_count": 98
        }
      ]
    },
    {
      "cell_type": "code",
      "metadata": {
        "colab": {
          "base_uri": "https://localhost:8080/"
        },
        "id": "Wo7Y7ihw6mD8",
        "outputId": "2ee60937-cdde-4b1e-8849-47f904d4755e"
      },
      "source": [
        "nova [1] = 0\n",
        "nova"
      ],
      "execution_count": null,
      "outputs": [
        {
          "output_type": "execute_result",
          "data": {
            "text/plain": [
              "[1, 0, 3]"
            ]
          },
          "metadata": {
            "tags": []
          },
          "execution_count": 99
        }
      ]
    },
    {
      "cell_type": "markdown",
      "metadata": {
        "id": "b0b1n2na60hM"
      },
      "source": [
        "Lista é mutável, tupla é imutável."
      ]
    },
    {
      "cell_type": "markdown",
      "metadata": {
        "id": "9aC1IWij1mO_"
      },
      "source": [
        "### Slicing:"
      ]
    },
    {
      "cell_type": "code",
      "metadata": {
        "colab": {
          "base_uri": "https://localhost:8080/"
        },
        "id": "dVwnJ7dY1pyB",
        "outputId": "dc7e6e0f-b7b7-4849-81f6-6b9294f5a964"
      },
      "source": [
        "lista = list(range(10))\n",
        "print(lista)"
      ],
      "execution_count": null,
      "outputs": [
        {
          "output_type": "stream",
          "text": [
            "[0, 1, 2, 3, 4, 5, 6, 7, 8, 9]\n"
          ],
          "name": "stdout"
        }
      ]
    },
    {
      "cell_type": "code",
      "metadata": {
        "colab": {
          "base_uri": "https://localhost:8080/"
        },
        "id": "5JV5Qmmj4x5S",
        "outputId": "418b9014-9d08-4238-e07c-a1d36c83b664"
      },
      "source": [
        "len(lista)"
      ],
      "execution_count": null,
      "outputs": [
        {
          "output_type": "execute_result",
          "data": {
            "text/plain": [
              "10"
            ]
          },
          "metadata": {
            "tags": []
          },
          "execution_count": 101
        }
      ]
    },
    {
      "cell_type": "code",
      "metadata": {
        "colab": {
          "base_uri": "https://localhost:8080/"
        },
        "id": "rnCpFO_742Q4",
        "outputId": "76b3aa66-9718-40ec-ff70-f69ae094a1a1"
      },
      "source": [
        "max(lista)"
      ],
      "execution_count": null,
      "outputs": [
        {
          "output_type": "execute_result",
          "data": {
            "text/plain": [
              "9"
            ]
          },
          "metadata": {
            "tags": []
          },
          "execution_count": 102
        }
      ]
    },
    {
      "cell_type": "code",
      "metadata": {
        "colab": {
          "base_uri": "https://localhost:8080/"
        },
        "id": "HkrgJbFu434w",
        "outputId": "6a1fb5a1-0292-4419-88f0-8f32a7b431b0"
      },
      "source": [
        "min(lista)"
      ],
      "execution_count": null,
      "outputs": [
        {
          "output_type": "execute_result",
          "data": {
            "text/plain": [
              "0"
            ]
          },
          "metadata": {
            "tags": []
          },
          "execution_count": 103
        }
      ]
    },
    {
      "cell_type": "code",
      "metadata": {
        "colab": {
          "base_uri": "https://localhost:8080/"
        },
        "id": "8ZeT-iWe440l",
        "outputId": "06dea7ed-3e31-4ac5-a399-6c1debb6341e"
      },
      "source": [
        "sum(lista)"
      ],
      "execution_count": null,
      "outputs": [
        {
          "output_type": "execute_result",
          "data": {
            "text/plain": [
              "45"
            ]
          },
          "metadata": {
            "tags": []
          },
          "execution_count": 104
        }
      ]
    },
    {
      "cell_type": "code",
      "metadata": {
        "colab": {
          "base_uri": "https://localhost:8080/"
        },
        "id": "kpJRAn-q1sZM",
        "outputId": "8cff7de5-09c3-4ec3-98c8-e302a6f9c72c"
      },
      "source": [
        "lista[1:3]"
      ],
      "execution_count": null,
      "outputs": [
        {
          "output_type": "execute_result",
          "data": {
            "text/plain": [
              "[1, 2]"
            ]
          },
          "metadata": {
            "tags": []
          },
          "execution_count": 105
        }
      ]
    },
    {
      "cell_type": "code",
      "metadata": {
        "colab": {
          "base_uri": "https://localhost:8080/"
        },
        "id": "7vdaGSVl1uyC",
        "outputId": "318ff434-0f3e-4199-b4bb-2d7b72ed2a9c"
      },
      "source": [
        "lista[0:4]"
      ],
      "execution_count": null,
      "outputs": [
        {
          "output_type": "execute_result",
          "data": {
            "text/plain": [
              "[0, 1, 2, 3]"
            ]
          },
          "metadata": {
            "tags": []
          },
          "execution_count": 106
        }
      ]
    },
    {
      "cell_type": "code",
      "metadata": {
        "colab": {
          "base_uri": "https://localhost:8080/"
        },
        "id": "Wm71cYrF1wcG",
        "outputId": "ed14aa3a-cb08-4aaf-8216-c62ca1f9f5e4"
      },
      "source": [
        "sublista = lista[0:3]\n",
        "print(sublista)"
      ],
      "execution_count": null,
      "outputs": [
        {
          "output_type": "stream",
          "text": [
            "[0, 1, 2]\n"
          ],
          "name": "stdout"
        }
      ]
    },
    {
      "cell_type": "code",
      "metadata": {
        "colab": {
          "base_uri": "https://localhost:8080/"
        },
        "id": "ljPU_aZJ1yWh",
        "outputId": "9157a7dd-727b-4b01-cf84-85463e652037"
      },
      "source": [
        "lista[-1]"
      ],
      "execution_count": null,
      "outputs": [
        {
          "output_type": "execute_result",
          "data": {
            "text/plain": [
              "9"
            ]
          },
          "metadata": {
            "tags": []
          },
          "execution_count": 108
        }
      ]
    },
    {
      "cell_type": "code",
      "metadata": {
        "colab": {
          "base_uri": "https://localhost:8080/"
        },
        "id": "o04r09IT11xE",
        "outputId": "aaade892-5501-4db4-89f6-bf2f7dd26c4a"
      },
      "source": [
        "sublista[-1]"
      ],
      "execution_count": null,
      "outputs": [
        {
          "output_type": "execute_result",
          "data": {
            "text/plain": [
              "2"
            ]
          },
          "metadata": {
            "tags": []
          },
          "execution_count": 109
        }
      ]
    },
    {
      "cell_type": "code",
      "metadata": {
        "colab": {
          "base_uri": "https://localhost:8080/"
        },
        "id": "fudVq3Jy5GWJ",
        "outputId": "2e386207-a980-4bcd-e678-d9ced9b20877"
      },
      "source": [
        "sublista.clear()\n",
        "print(sublista)"
      ],
      "execution_count": null,
      "outputs": [
        {
          "output_type": "stream",
          "text": [
            "[]\n"
          ],
          "name": "stdout"
        }
      ]
    },
    {
      "cell_type": "code",
      "metadata": {
        "colab": {
          "base_uri": "https://localhost:8080/"
        },
        "id": "O_31yGgw7AB6",
        "outputId": "70d670e6-957d-49de-cc5d-5511c25245dd"
      },
      "source": [
        "tupla[:]"
      ],
      "execution_count": null,
      "outputs": [
        {
          "output_type": "execute_result",
          "data": {
            "text/plain": [
              "(1, 2, 3)"
            ]
          },
          "metadata": {
            "tags": []
          },
          "execution_count": 111
        }
      ]
    },
    {
      "cell_type": "code",
      "metadata": {
        "colab": {
          "base_uri": "https://localhost:8080/"
        },
        "id": "O6Z58ORt7CTZ",
        "outputId": "88077599-2dac-48c1-f121-5c7e5b9c0415"
      },
      "source": [
        "tupla[0:2]"
      ],
      "execution_count": null,
      "outputs": [
        {
          "output_type": "execute_result",
          "data": {
            "text/plain": [
              "(1, 2)"
            ]
          },
          "metadata": {
            "tags": []
          },
          "execution_count": 112
        }
      ]
    },
    {
      "cell_type": "markdown",
      "metadata": {
        "id": "0e6zqvla2Oyk"
      },
      "source": [
        "### Função input:"
      ]
    },
    {
      "cell_type": "code",
      "metadata": {
        "colab": {
          "base_uri": "https://localhost:8080/"
        },
        "id": "HEozgCaX13p3",
        "outputId": "7230eca5-f32d-45b6-cf07-fbb207f58bef"
      },
      "source": [
        "a = int(input('Digite um número: '))\n",
        "b = int(input('Digite um número: '))\n",
        "\n",
        "soma = a + b\n",
        "\n",
        "print('{} + {} é igual à {}.'.format(a, b, soma))"
      ],
      "execution_count": null,
      "outputs": [
        {
          "output_type": "stream",
          "text": [
            "Digite um número: 5\n",
            "Digite um número: 9\n",
            "5 + 9 é igual à 14.\n"
          ],
          "name": "stdout"
        }
      ]
    },
    {
      "cell_type": "code",
      "metadata": {
        "colab": {
          "base_uri": "https://localhost:8080/"
        },
        "id": "TUsBzH_12hAY",
        "outputId": "1579ff18-6f80-4e3b-c2ed-9c52f7b3f88b"
      },
      "source": [
        "x = int(input('Valor de x: '))\n",
        "y = int(input('Valor de y: '))\n",
        "\n",
        "print(x == y)\n",
        "print(x > y)\n",
        "print(x <= y)\n",
        "print(x != y)"
      ],
      "execution_count": null,
      "outputs": [
        {
          "output_type": "stream",
          "text": [
            "Valor de x: 3\n",
            "Valor de y: 3\n",
            "True\n",
            "False\n",
            "True\n",
            "False\n"
          ],
          "name": "stdout"
        }
      ]
    },
    {
      "cell_type": "code",
      "metadata": {
        "colab": {
          "base_uri": "https://localhost:8080/"
        },
        "id": "bGORqubm3Cnk",
        "outputId": "e2bf672e-f6c5-45af-a517-ccd9a2d4eb4d"
      },
      "source": [
        "lugar = str(input('Onde você mora? '))\n",
        "print('Eu moro na {}.'.format(lugar))"
      ],
      "execution_count": null,
      "outputs": [
        {
          "output_type": "stream",
          "text": [
            "Onde você mora? Itália\n",
            "Eu moro na Itália.\n"
          ],
          "name": "stdout"
        }
      ]
    },
    {
      "cell_type": "code",
      "metadata": {
        "colab": {
          "base_uri": "https://localhost:8080/"
        },
        "id": "uQ4ssy_Y3gpO",
        "outputId": "f32e8d23-d14d-401c-88d6-587d103e798c"
      },
      "source": [
        "lugar = str(input('Onde você mora? '))\n",
        "print('Eu moro na', lugar,'.')"
      ],
      "execution_count": null,
      "outputs": [
        {
          "output_type": "stream",
          "text": [
            "Onde você mora? Itália\n",
            "Eu moro na Itália .\n"
          ],
          "name": "stdout"
        }
      ]
    },
    {
      "cell_type": "code",
      "metadata": {
        "colab": {
          "base_uri": "https://localhost:8080/"
        },
        "id": "K1wIkOeW3p4D",
        "outputId": "76139d1b-6418-48e2-d30b-458426c9effd"
      },
      "source": [
        "numero = int(input('Digite um número: '))\n",
        "antecessor = numero - 1\n",
        "sucessor = numero + 1\n",
        "\n",
        "print('O antecessor do número {} é {} e o sucessor é {}.'.format(numero, antecessor, sucessor))"
      ],
      "execution_count": null,
      "outputs": [
        {
          "output_type": "stream",
          "text": [
            "Digite um número: 5\n",
            "O antecessor do número 5 é 4 e o sucessor é 6.\n"
          ],
          "name": "stdout"
        }
      ]
    },
    {
      "cell_type": "markdown",
      "metadata": {
        "id": "A-sqKm5jgD1Z"
      },
      "source": [
        "*A aula ocorreu no dia 5 de maio de 2021, das 14h às 18h.*"
      ]
    }
  ]
}