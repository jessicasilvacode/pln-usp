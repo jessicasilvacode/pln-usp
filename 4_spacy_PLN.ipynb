{
  "nbformat": 4,
  "nbformat_minor": 0,
  "metadata": {
    "colab": {
      "name": "4_spacy_PLN.ipynb",
      "provenance": [],
      "mount_file_id": "1PKDFW-zgAtExDDF0I_2kTu0ilGeH4BWk",
      "authorship_tag": "ABX9TyMuHy8sjBQCl0GpDfsHI+HK"
    },
    "kernelspec": {
      "name": "python3",
      "display_name": "Python 3"
    },
    "language_info": {
      "name": "python"
    }
  },
  "cells": [
    {
      "cell_type": "markdown",
      "metadata": {
        "id": "6_URgxWyFgUd"
      },
      "source": [
        "## **Introdução ao spaCy**\n"
      ]
    },
    {
      "cell_type": "markdown",
      "metadata": {
        "id": "nTGibgy9Ftsm"
      },
      "source": [
        "Documentação: [spaCy 101](https://spacy.io/usage/spacy-101)"
      ]
    },
    {
      "cell_type": "markdown",
      "metadata": {
        "id": "Ixp61Hf9Fzw4"
      },
      "source": [
        "É uma biblioteca Python para processamento de textos. Uso em escala industrial, feito para uso em produção e criação de aplicações que conseguem processar um grande volume de dados."
      ]
    },
    {
      "cell_type": "markdown",
      "metadata": {
        "id": "tcl7qChpKELK"
      },
      "source": [
        "Modelos pré treinados: "
      ]
    },
    {
      "cell_type": "markdown",
      "metadata": {
        "id": "njnSu1h4KGby"
      },
      "source": [
        "- entidades nomeadas;\n",
        "- classes gramaticais;\n",
        "- dependências sintáticas."
      ]
    },
    {
      "cell_type": "markdown",
      "metadata": {
        "id": "AmeiJPeXKQtu"
      },
      "source": [
        "Detalhes sobre os modelos: [Língua Portuguesa](https://spacy.io/models/pt/)"
      ]
    },
    {
      "cell_type": "markdown",
      "metadata": {
        "id": "IDFWwe_ZTjZl"
      },
      "source": [
        "### **Introdução**"
      ]
    },
    {
      "cell_type": "code",
      "metadata": {
        "id": "bp_Ecz5bwxBv"
      },
      "source": [
        " import spacy"
      ],
      "execution_count": 1,
      "outputs": []
    },
    {
      "cell_type": "markdown",
      "metadata": {
        "id": "oXQol108SU54"
      },
      "source": [
        "Instalando a versão mais atualizada do spaCy:"
      ]
    },
    {
      "cell_type": "code",
      "metadata": {
        "colab": {
          "base_uri": "https://localhost:8080/"
        },
        "id": "BQU3yk43Rg_j",
        "outputId": "bd48304a-08b9-4011-abf2-bdf896b8765b"
      },
      "source": [
        "!pip install -U spacy"
      ],
      "execution_count": 2,
      "outputs": [
        {
          "output_type": "stream",
          "text": [
            "Requirement already up-to-date: spacy in /usr/local/lib/python3.7/dist-packages (3.0.6)\n",
            "Requirement already satisfied, skipping upgrade: jinja2 in /usr/local/lib/python3.7/dist-packages (from spacy) (2.11.3)\n",
            "Requirement already satisfied, skipping upgrade: blis<0.8.0,>=0.4.0 in /usr/local/lib/python3.7/dist-packages (from spacy) (0.4.1)\n",
            "Requirement already satisfied, skipping upgrade: srsly<3.0.0,>=2.4.1 in /usr/local/lib/python3.7/dist-packages (from spacy) (2.4.1)\n",
            "Requirement already satisfied, skipping upgrade: pydantic<1.8.0,>=1.7.1 in /usr/local/lib/python3.7/dist-packages (from spacy) (1.7.4)\n",
            "Requirement already satisfied, skipping upgrade: pathy>=0.3.5 in /usr/local/lib/python3.7/dist-packages (from spacy) (0.5.2)\n",
            "Requirement already satisfied, skipping upgrade: typer<0.4.0,>=0.3.0 in /usr/local/lib/python3.7/dist-packages (from spacy) (0.3.2)\n",
            "Requirement already satisfied, skipping upgrade: preshed<3.1.0,>=3.0.2 in /usr/local/lib/python3.7/dist-packages (from spacy) (3.0.5)\n",
            "Requirement already satisfied, skipping upgrade: packaging>=20.0 in /usr/local/lib/python3.7/dist-packages (from spacy) (20.9)\n",
            "Requirement already satisfied, skipping upgrade: requests<3.0.0,>=2.13.0 in /usr/local/lib/python3.7/dist-packages (from spacy) (2.23.0)\n",
            "Requirement already satisfied, skipping upgrade: catalogue<2.1.0,>=2.0.3 in /usr/local/lib/python3.7/dist-packages (from spacy) (2.0.4)\n",
            "Requirement already satisfied, skipping upgrade: murmurhash<1.1.0,>=0.28.0 in /usr/local/lib/python3.7/dist-packages (from spacy) (1.0.5)\n",
            "Requirement already satisfied, skipping upgrade: spacy-legacy<3.1.0,>=3.0.4 in /usr/local/lib/python3.7/dist-packages (from spacy) (3.0.5)\n",
            "Requirement already satisfied, skipping upgrade: cymem<2.1.0,>=2.0.2 in /usr/local/lib/python3.7/dist-packages (from spacy) (2.0.5)\n",
            "Requirement already satisfied, skipping upgrade: wasabi<1.1.0,>=0.8.1 in /usr/local/lib/python3.7/dist-packages (from spacy) (0.8.2)\n",
            "Requirement already satisfied, skipping upgrade: thinc<8.1.0,>=8.0.3 in /usr/local/lib/python3.7/dist-packages (from spacy) (8.0.3)\n",
            "Requirement already satisfied, skipping upgrade: tqdm<5.0.0,>=4.38.0 in /usr/local/lib/python3.7/dist-packages (from spacy) (4.41.1)\n",
            "Requirement already satisfied, skipping upgrade: setuptools in /usr/local/lib/python3.7/dist-packages (from spacy) (56.1.0)\n",
            "Requirement already satisfied, skipping upgrade: typing-extensions<4.0.0.0,>=3.7.4; python_version < \"3.8\" in /usr/local/lib/python3.7/dist-packages (from spacy) (3.7.4.3)\n",
            "Requirement already satisfied, skipping upgrade: numpy>=1.15.0 in /usr/local/lib/python3.7/dist-packages (from spacy) (1.19.5)\n",
            "Requirement already satisfied, skipping upgrade: MarkupSafe>=0.23 in /usr/local/lib/python3.7/dist-packages (from jinja2->spacy) (2.0.1)\n",
            "Requirement already satisfied, skipping upgrade: smart-open<4.0.0,>=2.2.0 in /usr/local/lib/python3.7/dist-packages (from pathy>=0.3.5->spacy) (3.0.0)\n",
            "Requirement already satisfied, skipping upgrade: click<7.2.0,>=7.1.1 in /usr/local/lib/python3.7/dist-packages (from typer<0.4.0,>=0.3.0->spacy) (7.1.2)\n",
            "Requirement already satisfied, skipping upgrade: pyparsing>=2.0.2 in /usr/local/lib/python3.7/dist-packages (from packaging>=20.0->spacy) (2.4.7)\n",
            "Requirement already satisfied, skipping upgrade: urllib3!=1.25.0,!=1.25.1,<1.26,>=1.21.1 in /usr/local/lib/python3.7/dist-packages (from requests<3.0.0,>=2.13.0->spacy) (1.24.3)\n",
            "Requirement already satisfied, skipping upgrade: chardet<4,>=3.0.2 in /usr/local/lib/python3.7/dist-packages (from requests<3.0.0,>=2.13.0->spacy) (3.0.4)\n",
            "Requirement already satisfied, skipping upgrade: idna<3,>=2.5 in /usr/local/lib/python3.7/dist-packages (from requests<3.0.0,>=2.13.0->spacy) (2.10)\n",
            "Requirement already satisfied, skipping upgrade: certifi>=2017.4.17 in /usr/local/lib/python3.7/dist-packages (from requests<3.0.0,>=2.13.0->spacy) (2020.12.5)\n",
            "Requirement already satisfied, skipping upgrade: zipp>=0.5; python_version < \"3.8\" in /usr/local/lib/python3.7/dist-packages (from catalogue<2.1.0,>=2.0.3->spacy) (3.4.1)\n"
          ],
          "name": "stdout"
        }
      ]
    },
    {
      "cell_type": "markdown",
      "metadata": {
        "id": "7tePPxoXSYTB"
      },
      "source": [
        "Instalando os pacotes extras e o modelo de linguagem: "
      ]
    },
    {
      "cell_type": "code",
      "metadata": {
        "colab": {
          "base_uri": "https://localhost:8080/"
        },
        "id": "mP3-Ouw9R65E",
        "outputId": "ad7f4c97-dc44-4341-fab1-91ab1122fcd7"
      },
      "source": [
        "!pip install -U spacy-lookups-data"
      ],
      "execution_count": 3,
      "outputs": [
        {
          "output_type": "stream",
          "text": [
            "Requirement already up-to-date: spacy-lookups-data in /usr/local/lib/python3.7/dist-packages (1.0.0)\n",
            "Requirement already satisfied, skipping upgrade: setuptools in /usr/local/lib/python3.7/dist-packages (from spacy-lookups-data) (56.1.0)\n"
          ],
          "name": "stdout"
        }
      ]
    },
    {
      "cell_type": "code",
      "metadata": {
        "id": "zi_79ZBuSQ-5",
        "colab": {
          "base_uri": "https://localhost:8080/"
        },
        "outputId": "ec4508bd-30cb-4899-8ac6-ba9d1f30c118"
      },
      "source": [
        "!python -m spacy download pt_core_news_lg"
      ],
      "execution_count": 4,
      "outputs": [
        {
          "output_type": "stream",
          "text": [
            "2021-05-27 22:03:53.587564: I tensorflow/stream_executor/platform/default/dso_loader.cc:53] Successfully opened dynamic library libcudart.so.11.0\n",
            "Collecting pt-core-news-lg==3.0.0\n",
            "\u001b[?25l  Downloading https://github.com/explosion/spacy-models/releases/download/pt_core_news_lg-3.0.0/pt_core_news_lg-3.0.0-py3-none-any.whl (578.1MB)\n",
            "\u001b[K     |████████████████████████████████| 578.1MB 24kB/s \n",
            "\u001b[?25hRequirement already satisfied: spacy<3.1.0,>=3.0.0 in /usr/local/lib/python3.7/dist-packages (from pt-core-news-lg==3.0.0) (3.0.6)\n",
            "Requirement already satisfied: preshed<3.1.0,>=3.0.2 in /usr/local/lib/python3.7/dist-packages (from spacy<3.1.0,>=3.0.0->pt-core-news-lg==3.0.0) (3.0.5)\n",
            "Requirement already satisfied: typer<0.4.0,>=0.3.0 in /usr/local/lib/python3.7/dist-packages (from spacy<3.1.0,>=3.0.0->pt-core-news-lg==3.0.0) (0.3.2)\n",
            "Requirement already satisfied: setuptools in /usr/local/lib/python3.7/dist-packages (from spacy<3.1.0,>=3.0.0->pt-core-news-lg==3.0.0) (56.1.0)\n",
            "Requirement already satisfied: pathy>=0.3.5 in /usr/local/lib/python3.7/dist-packages (from spacy<3.1.0,>=3.0.0->pt-core-news-lg==3.0.0) (0.5.2)\n",
            "Requirement already satisfied: wasabi<1.1.0,>=0.8.1 in /usr/local/lib/python3.7/dist-packages (from spacy<3.1.0,>=3.0.0->pt-core-news-lg==3.0.0) (0.8.2)\n",
            "Requirement already satisfied: jinja2 in /usr/local/lib/python3.7/dist-packages (from spacy<3.1.0,>=3.0.0->pt-core-news-lg==3.0.0) (2.11.3)\n",
            "Requirement already satisfied: blis<0.8.0,>=0.4.0 in /usr/local/lib/python3.7/dist-packages (from spacy<3.1.0,>=3.0.0->pt-core-news-lg==3.0.0) (0.4.1)\n",
            "Requirement already satisfied: typing-extensions<4.0.0.0,>=3.7.4; python_version < \"3.8\" in /usr/local/lib/python3.7/dist-packages (from spacy<3.1.0,>=3.0.0->pt-core-news-lg==3.0.0) (3.7.4.3)\n",
            "Requirement already satisfied: thinc<8.1.0,>=8.0.3 in /usr/local/lib/python3.7/dist-packages (from spacy<3.1.0,>=3.0.0->pt-core-news-lg==3.0.0) (8.0.3)\n",
            "Requirement already satisfied: pydantic<1.8.0,>=1.7.1 in /usr/local/lib/python3.7/dist-packages (from spacy<3.1.0,>=3.0.0->pt-core-news-lg==3.0.0) (1.7.4)\n",
            "Requirement already satisfied: requests<3.0.0,>=2.13.0 in /usr/local/lib/python3.7/dist-packages (from spacy<3.1.0,>=3.0.0->pt-core-news-lg==3.0.0) (2.23.0)\n",
            "Requirement already satisfied: numpy>=1.15.0 in /usr/local/lib/python3.7/dist-packages (from spacy<3.1.0,>=3.0.0->pt-core-news-lg==3.0.0) (1.19.5)\n",
            "Requirement already satisfied: cymem<2.1.0,>=2.0.2 in /usr/local/lib/python3.7/dist-packages (from spacy<3.1.0,>=3.0.0->pt-core-news-lg==3.0.0) (2.0.5)\n",
            "Requirement already satisfied: tqdm<5.0.0,>=4.38.0 in /usr/local/lib/python3.7/dist-packages (from spacy<3.1.0,>=3.0.0->pt-core-news-lg==3.0.0) (4.41.1)\n",
            "Requirement already satisfied: spacy-legacy<3.1.0,>=3.0.4 in /usr/local/lib/python3.7/dist-packages (from spacy<3.1.0,>=3.0.0->pt-core-news-lg==3.0.0) (3.0.5)\n",
            "Requirement already satisfied: srsly<3.0.0,>=2.4.1 in /usr/local/lib/python3.7/dist-packages (from spacy<3.1.0,>=3.0.0->pt-core-news-lg==3.0.0) (2.4.1)\n",
            "Requirement already satisfied: packaging>=20.0 in /usr/local/lib/python3.7/dist-packages (from spacy<3.1.0,>=3.0.0->pt-core-news-lg==3.0.0) (20.9)\n",
            "Requirement already satisfied: catalogue<2.1.0,>=2.0.3 in /usr/local/lib/python3.7/dist-packages (from spacy<3.1.0,>=3.0.0->pt-core-news-lg==3.0.0) (2.0.4)\n",
            "Requirement already satisfied: murmurhash<1.1.0,>=0.28.0 in /usr/local/lib/python3.7/dist-packages (from spacy<3.1.0,>=3.0.0->pt-core-news-lg==3.0.0) (1.0.5)\n",
            "Requirement already satisfied: click<7.2.0,>=7.1.1 in /usr/local/lib/python3.7/dist-packages (from typer<0.4.0,>=0.3.0->spacy<3.1.0,>=3.0.0->pt-core-news-lg==3.0.0) (7.1.2)\n",
            "Requirement already satisfied: smart-open<4.0.0,>=2.2.0 in /usr/local/lib/python3.7/dist-packages (from pathy>=0.3.5->spacy<3.1.0,>=3.0.0->pt-core-news-lg==3.0.0) (3.0.0)\n",
            "Requirement already satisfied: MarkupSafe>=0.23 in /usr/local/lib/python3.7/dist-packages (from jinja2->spacy<3.1.0,>=3.0.0->pt-core-news-lg==3.0.0) (2.0.1)\n",
            "Requirement already satisfied: certifi>=2017.4.17 in /usr/local/lib/python3.7/dist-packages (from requests<3.0.0,>=2.13.0->spacy<3.1.0,>=3.0.0->pt-core-news-lg==3.0.0) (2020.12.5)\n",
            "Requirement already satisfied: chardet<4,>=3.0.2 in /usr/local/lib/python3.7/dist-packages (from requests<3.0.0,>=2.13.0->spacy<3.1.0,>=3.0.0->pt-core-news-lg==3.0.0) (3.0.4)\n",
            "Requirement already satisfied: idna<3,>=2.5 in /usr/local/lib/python3.7/dist-packages (from requests<3.0.0,>=2.13.0->spacy<3.1.0,>=3.0.0->pt-core-news-lg==3.0.0) (2.10)\n",
            "Requirement already satisfied: urllib3!=1.25.0,!=1.25.1,<1.26,>=1.21.1 in /usr/local/lib/python3.7/dist-packages (from requests<3.0.0,>=2.13.0->spacy<3.1.0,>=3.0.0->pt-core-news-lg==3.0.0) (1.24.3)\n",
            "Requirement already satisfied: pyparsing>=2.0.2 in /usr/local/lib/python3.7/dist-packages (from packaging>=20.0->spacy<3.1.0,>=3.0.0->pt-core-news-lg==3.0.0) (2.4.7)\n",
            "Requirement already satisfied: zipp>=0.5; python_version < \"3.8\" in /usr/local/lib/python3.7/dist-packages (from catalogue<2.1.0,>=2.0.3->spacy<3.1.0,>=3.0.0->pt-core-news-lg==3.0.0) (3.4.1)\n",
            "Installing collected packages: pt-core-news-lg\n",
            "Successfully installed pt-core-news-lg-3.0.0\n",
            "\u001b[38;5;2m✔ Download and installation successful\u001b[0m\n",
            "You can now load the package via spacy.load('pt_core_news_lg')\n"
          ],
          "name": "stdout"
        }
      ]
    },
    {
      "cell_type": "markdown",
      "metadata": {
        "id": "mXP8rkvjT8bc"
      },
      "source": [
        "Utilizando o spaCy e os pacotes, tendo como base o \"*corpus.txt*\"."
      ]
    },
    {
      "cell_type": "code",
      "metadata": {
        "id": "oC32hralSo_5"
      },
      "source": [
        "import spacy \n",
        "\n",
        "texto = \"A vitória dos Giants, porém, também ficará para a história. Pela primeira vez, irmãos quarterbacks triunfam no Super Bowl em temporadas consecutivas. No ano passado, Peyton Manning, irmão de Eli, chegou ao título máximo da NFL pelo Indianapolis Colts.\"\n",
        "\n",
        "nlp = spacy.load('pt_core_news_lg')\n",
        "\n",
        "doc = nlp(texto)"
      ],
      "execution_count": 5,
      "outputs": []
    },
    {
      "cell_type": "code",
      "metadata": {
        "id": "k8cICBDMTrCN",
        "colab": {
          "base_uri": "https://localhost:8080/"
        },
        "outputId": "2206ed2f-1207-44c8-d6f6-15db5c1dec89"
      },
      "source": [
        "doc"
      ],
      "execution_count": 6,
      "outputs": [
        {
          "output_type": "execute_result",
          "data": {
            "text/plain": [
              "A vitória dos Giants, porém, também ficará para a história. Pela primeira vez, irmãos quarterbacks triunfam no Super Bowl em temporadas consecutivas. No ano passado, Peyton Manning, irmão de Eli, chegou ao título máximo da NFL pelo Indianapolis Colts."
            ]
          },
          "metadata": {
            "tags": []
          },
          "execution_count": 6
        }
      ]
    },
    {
      "cell_type": "code",
      "metadata": {
        "id": "i3LIUdluTxLL",
        "colab": {
          "base_uri": "https://localhost:8080/"
        },
        "outputId": "57303120-8910-40d1-d0d7-164ade8a03a6"
      },
      "source": [
        "type(doc)"
      ],
      "execution_count": 7,
      "outputs": [
        {
          "output_type": "execute_result",
          "data": {
            "text/plain": [
              "spacy.tokens.doc.Doc"
            ]
          },
          "metadata": {
            "tags": []
          },
          "execution_count": 7
        }
      ]
    },
    {
      "cell_type": "markdown",
      "metadata": {
        "id": "x9USzKiOUqia"
      },
      "source": [
        "Imprimindo todos os tokens:"
      ]
    },
    {
      "cell_type": "code",
      "metadata": {
        "id": "i2mPEoOUT68F",
        "colab": {
          "base_uri": "https://localhost:8080/"
        },
        "outputId": "ce027719-af5d-46e1-8449-9a3fb4aea737"
      },
      "source": [
        "tokens = [token for token in doc]\n",
        "tokens"
      ],
      "execution_count": 8,
      "outputs": [
        {
          "output_type": "execute_result",
          "data": {
            "text/plain": [
              "[A,\n",
              " vitória,\n",
              " dos,\n",
              " Giants,\n",
              " ,,\n",
              " porém,\n",
              " ,,\n",
              " também,\n",
              " ficará,\n",
              " para,\n",
              " a,\n",
              " história,\n",
              " .,\n",
              " Pela,\n",
              " primeira,\n",
              " vez,\n",
              " ,,\n",
              " irmãos,\n",
              " quarterbacks,\n",
              " triunfam,\n",
              " no,\n",
              " Super,\n",
              " Bowl,\n",
              " em,\n",
              " temporadas,\n",
              " consecutivas,\n",
              " .,\n",
              " No,\n",
              " ano,\n",
              " passado,\n",
              " ,,\n",
              " Peyton,\n",
              " Manning,\n",
              " ,,\n",
              " irmão,\n",
              " de,\n",
              " Eli,\n",
              " ,,\n",
              " chegou,\n",
              " ao,\n",
              " título,\n",
              " máximo,\n",
              " da,\n",
              " NFL,\n",
              " pelo,\n",
              " Indianapolis,\n",
              " Colts,\n",
              " .]"
            ]
          },
          "metadata": {
            "tags": []
          },
          "execution_count": 8
        }
      ]
    },
    {
      "cell_type": "markdown",
      "metadata": {
        "id": "nly89tJKU5Ln"
      },
      "source": [
        "Pegando as strings:"
      ]
    },
    {
      "cell_type": "code",
      "metadata": {
        "id": "SU2gSNCtUp2g",
        "colab": {
          "base_uri": "https://localhost:8080/"
        },
        "outputId": "c9488a50-5a62-47eb-f91a-261e78fd3816"
      },
      "source": [
        "tokens_orth = [token.orth_ for token in doc]\n",
        "tokens_orth"
      ],
      "execution_count": 9,
      "outputs": [
        {
          "output_type": "execute_result",
          "data": {
            "text/plain": [
              "['A',\n",
              " 'vitória',\n",
              " 'dos',\n",
              " 'Giants',\n",
              " ',',\n",
              " 'porém',\n",
              " ',',\n",
              " 'também',\n",
              " 'ficará',\n",
              " 'para',\n",
              " 'a',\n",
              " 'história',\n",
              " '.',\n",
              " 'Pela',\n",
              " 'primeira',\n",
              " 'vez',\n",
              " ',',\n",
              " 'irmãos',\n",
              " 'quarterbacks',\n",
              " 'triunfam',\n",
              " 'no',\n",
              " 'Super',\n",
              " 'Bowl',\n",
              " 'em',\n",
              " 'temporadas',\n",
              " 'consecutivas',\n",
              " '.',\n",
              " 'No',\n",
              " 'ano',\n",
              " 'passado',\n",
              " ',',\n",
              " 'Peyton',\n",
              " 'Manning',\n",
              " ',',\n",
              " 'irmão',\n",
              " 'de',\n",
              " 'Eli',\n",
              " ',',\n",
              " 'chegou',\n",
              " 'ao',\n",
              " 'título',\n",
              " 'máximo',\n",
              " 'da',\n",
              " 'NFL',\n",
              " 'pelo',\n",
              " 'Indianapolis',\n",
              " 'Colts',\n",
              " '.']"
            ]
          },
          "metadata": {
            "tags": []
          },
          "execution_count": 9
        }
      ]
    },
    {
      "cell_type": "markdown",
      "metadata": {
        "id": "ir4hiXXPVr3v"
      },
      "source": [
        "Imprimindo somente elementos alfabéticos:"
      ]
    },
    {
      "cell_type": "code",
      "metadata": {
        "id": "-_Jg3-BrVBqJ",
        "colab": {
          "base_uri": "https://localhost:8080/"
        },
        "outputId": "e2819bd8-c32e-4011-b57f-d1de8bf4c602"
      },
      "source": [
        "tokens_orth = [token.orth_ for token in doc]\n",
        "print([token.orth_ for token in doc if token.is_alpha])"
      ],
      "execution_count": 10,
      "outputs": [
        {
          "output_type": "stream",
          "text": [
            "['A', 'vitória', 'dos', 'Giants', 'porém', 'também', 'ficará', 'para', 'a', 'história', 'Pela', 'primeira', 'vez', 'irmãos', 'quarterbacks', 'triunfam', 'no', 'Super', 'Bowl', 'em', 'temporadas', 'consecutivas', 'No', 'ano', 'passado', 'Peyton', 'Manning', 'irmão', 'de', 'Eli', 'chegou', 'ao', 'título', 'máximo', 'da', 'NFL', 'pelo', 'Indianapolis', 'Colts']\n"
          ],
          "name": "stdout"
        }
      ]
    },
    {
      "cell_type": "markdown",
      "metadata": {
        "id": "XKu9bUZBVv1b"
      },
      "source": [
        "Imprimindo somente elementos numéricos:"
      ]
    },
    {
      "cell_type": "code",
      "metadata": {
        "id": "0uhIAELFVn1j",
        "colab": {
          "base_uri": "https://localhost:8080/"
        },
        "outputId": "f11d075e-ccbe-4b7f-d3ab-479b90c9e53e"
      },
      "source": [
        "tokens_orth = [token.orth_ for token in doc]\n",
        "print([token.orth_ for token in doc if token.is_digit])"
      ],
      "execution_count": 11,
      "outputs": [
        {
          "output_type": "stream",
          "text": [
            "[]\n"
          ],
          "name": "stdout"
        }
      ]
    },
    {
      "cell_type": "markdown",
      "metadata": {
        "id": "HCrXc3b-V4OI"
      },
      "source": [
        "Imprimindo pontuação:"
      ]
    },
    {
      "cell_type": "code",
      "metadata": {
        "id": "ryXDj9mHV0XQ",
        "colab": {
          "base_uri": "https://localhost:8080/"
        },
        "outputId": "47102f5e-3b32-4485-cd8e-462248c34c6a"
      },
      "source": [
        "tokens_orth = [token.orth_ for token in doc]\n",
        "print([token.orth_ for token in doc if token.is_punct])"
      ],
      "execution_count": 12,
      "outputs": [
        {
          "output_type": "stream",
          "text": [
            "[',', ',', '.', ',', '.', ',', ',', ',', '.']\n"
          ],
          "name": "stdout"
        }
      ]
    },
    {
      "cell_type": "markdown",
      "metadata": {
        "id": "0sCS3KEPV9m1"
      },
      "source": [
        "Podemos identificar: pontuação, espaços, símbolos financeiros, números, e-mails, stopwords e [muitos outros atributos](https://spacy.io/api/token#attributes)..."
      ]
    },
    {
      "cell_type": "markdown",
      "metadata": {
        "id": "NGzLNmULW1t0"
      },
      "source": [
        "Identificando stopwords, por exemplo:"
      ]
    },
    {
      "cell_type": "code",
      "metadata": {
        "id": "U3USorLtV3mL",
        "colab": {
          "base_uri": "https://localhost:8080/"
        },
        "outputId": "bfbdbe5a-f464-4ad1-f007-ed53e3ecd979"
      },
      "source": [
        "print(doc[0].is_stop)"
      ],
      "execution_count": 13,
      "outputs": [
        {
          "output_type": "stream",
          "text": [
            "True\n"
          ],
          "name": "stdout"
        }
      ]
    },
    {
      "cell_type": "code",
      "metadata": {
        "id": "aoz88NrAW9nP",
        "colab": {
          "base_uri": "https://localhost:8080/"
        },
        "outputId": "68cf2e17-bbb7-4c74-9c0d-26e6ff7c8efa"
      },
      "source": [
        "print(doc[1].is_stop)"
      ],
      "execution_count": 14,
      "outputs": [
        {
          "output_type": "stream",
          "text": [
            "False\n"
          ],
          "name": "stdout"
        }
      ]
    },
    {
      "cell_type": "code",
      "metadata": {
        "id": "S14UB-uOXAVc",
        "colab": {
          "base_uri": "https://localhost:8080/"
        },
        "outputId": "b3176c07-2746-42a9-f6c4-b877044da924"
      },
      "source": [
        "tokens_orth = [token.orth_ for token in doc]\n",
        "print([token.orth_ for token in doc if token.is_stop])"
      ],
      "execution_count": 15,
      "outputs": [
        {
          "output_type": "stream",
          "text": [
            "['A', 'dos', 'porém', 'também', 'para', 'a', 'Pela', 'primeira', 'vez', 'no', 'em', 'No', 'de', 'ao', 'máximo', 'da', 'pelo']\n"
          ],
          "name": "stdout"
        }
      ]
    },
    {
      "cell_type": "markdown",
      "metadata": {
        "id": "pc9XiP38XMAq"
      },
      "source": [
        "### **Lematização**"
      ]
    },
    {
      "cell_type": "markdown",
      "metadata": {
        "id": "vOG_hNcMYb-K"
      },
      "source": [
        "Colocando os verbos no infinitivo:"
      ]
    },
    {
      "cell_type": "code",
      "metadata": {
        "id": "qhLgT1FlX8M7"
      },
      "source": [
        "import spacy \n",
        "\n",
        "texto = \"A vitória dos Giants, porém, também ficará para a história. Pela primeira vez, irmãos quarterbacks triunfam no Super Bowl em temporadas consecutivas. No ano passado, Peyton Manning, irmão de Eli, chegou ao título máximo da NFL pelo Indianapolis Colts.\"\n",
        "\n",
        "nlp = spacy.load('pt_core_news_lg')\n",
        "\n",
        "doc = nlp(texto)\n",
        "\n",
        "lemmas = [token.lemma_ for token in doc if token.pos_ == 'VERB']"
      ],
      "execution_count": 16,
      "outputs": []
    },
    {
      "cell_type": "code",
      "metadata": {
        "id": "Rm5cpPpsXdam",
        "colab": {
          "base_uri": "https://localhost:8080/"
        },
        "outputId": "451690f3-152d-4d18-8bcc-6907076c9d88"
      },
      "source": [
        "lemmas"
      ],
      "execution_count": 17,
      "outputs": [
        {
          "output_type": "execute_result",
          "data": {
            "text/plain": [
              "['ficar', 'triunfar', 'chegar']"
            ]
          },
          "metadata": {
            "tags": []
          },
          "execution_count": 17
        }
      ]
    },
    {
      "cell_type": "markdown",
      "metadata": {
        "id": "xceWwqjBY2sp"
      },
      "source": [
        "### **Classes gramaticais**"
      ]
    },
    {
      "cell_type": "code",
      "metadata": {
        "id": "phGWtSK1YL00"
      },
      "source": [
        "etiquetado = [(token.orth_, token.pos_) for token in doc]"
      ],
      "execution_count": 18,
      "outputs": []
    },
    {
      "cell_type": "code",
      "metadata": {
        "id": "Jh8HBlUqY1OZ",
        "colab": {
          "base_uri": "https://localhost:8080/"
        },
        "outputId": "50a05dfd-9ffb-4824-f78b-592302fea6ad"
      },
      "source": [
        "etiquetado"
      ],
      "execution_count": 19,
      "outputs": [
        {
          "output_type": "execute_result",
          "data": {
            "text/plain": [
              "[('A', 'DET'),\n",
              " ('vitória', 'NOUN'),\n",
              " ('dos', 'ADP'),\n",
              " ('Giants', 'PROPN'),\n",
              " (',', 'PUNCT'),\n",
              " ('porém', 'CCONJ'),\n",
              " (',', 'PUNCT'),\n",
              " ('também', 'ADV'),\n",
              " ('ficará', 'VERB'),\n",
              " ('para', 'ADP'),\n",
              " ('a', 'DET'),\n",
              " ('história', 'NOUN'),\n",
              " ('.', 'PUNCT'),\n",
              " ('Pela', 'NOUN'),\n",
              " ('primeira', 'ADP'),\n",
              " ('vez', 'NOUN'),\n",
              " (',', 'PUNCT'),\n",
              " ('irmãos', 'NOUN'),\n",
              " ('quarterbacks', 'NOUN'),\n",
              " ('triunfam', 'VERB'),\n",
              " ('no', 'ADP'),\n",
              " ('Super', 'PROPN'),\n",
              " ('Bowl', 'PROPN'),\n",
              " ('em', 'ADP'),\n",
              " ('temporadas', 'NOUN'),\n",
              " ('consecutivas', 'ADJ'),\n",
              " ('.', 'PUNCT'),\n",
              " ('No', 'ADP'),\n",
              " ('ano', 'NOUN'),\n",
              " ('passado', 'ADJ'),\n",
              " (',', 'PUNCT'),\n",
              " ('Peyton', 'PROPN'),\n",
              " ('Manning', 'PROPN'),\n",
              " (',', 'PUNCT'),\n",
              " ('irmão', 'NOUN'),\n",
              " ('de', 'ADP'),\n",
              " ('Eli', 'PROPN'),\n",
              " (',', 'PUNCT'),\n",
              " ('chegou', 'VERB'),\n",
              " ('ao', 'ADP'),\n",
              " ('título', 'NOUN'),\n",
              " ('máximo', 'ADJ'),\n",
              " ('da', 'ADP'),\n",
              " ('NFL', 'PROPN'),\n",
              " ('pelo', 'ADP'),\n",
              " ('Indianapolis', 'PROPN'),\n",
              " ('Colts', 'PROPN'),\n",
              " ('.', 'PUNCT')]"
            ]
          },
          "metadata": {
            "tags": []
          },
          "execution_count": 19
        }
      ]
    },
    {
      "cell_type": "markdown",
      "metadata": {
        "id": "nzFd_eByZdr7"
      },
      "source": [
        "Um mais detalhado:"
      ]
    },
    {
      "cell_type": "code",
      "metadata": {
        "id": "UFHRQqYKZC7u"
      },
      "source": [
        "etiquetado_morph = [(token.orth_, token.morph) for token in doc]"
      ],
      "execution_count": 20,
      "outputs": []
    },
    {
      "cell_type": "code",
      "metadata": {
        "id": "lYzHEPNjZm7c",
        "colab": {
          "base_uri": "https://localhost:8080/"
        },
        "outputId": "1b562ee7-d3c7-49a2-df8c-db42253a09ba"
      },
      "source": [
        "etiquetado_morph"
      ],
      "execution_count": 21,
      "outputs": [
        {
          "output_type": "execute_result",
          "data": {
            "text/plain": [
              "[('A', Definite=Def|Gender=Fem|Number=Sing|PronType=Art),\n",
              " ('vitória', Gender=Fem|Number=Sing),\n",
              " ('dos', Definite=Def|Gender=Masc|Number=Plur|PronType=Art),\n",
              " ('Giants', Gender=Masc|Number=Plur),\n",
              " (',', ),\n",
              " ('porém', ),\n",
              " (',', ),\n",
              " ('também', ),\n",
              " ('ficará', Mood=Ind|Number=Sing|Person=3|Tense=Fut|VerbForm=Fin),\n",
              " ('para', ),\n",
              " ('a', Definite=Def|Gender=Fem|Number=Sing|PronType=Art),\n",
              " ('história', Gender=Fem|Number=Sing),\n",
              " ('.', ),\n",
              " ('Pela', Gender=Masc|Number=Sing),\n",
              " ('primeira', ),\n",
              " ('vez', Gender=Masc|Number=Sing),\n",
              " (',', ),\n",
              " ('irmãos', Gender=Masc|Number=Plur),\n",
              " ('quarterbacks', Gender=Masc|Number=Sing),\n",
              " ('triunfam', Mood=Ind|Number=Sing|Person=3|Tense=Pres|VerbForm=Fin),\n",
              " ('no', Definite=Def|Gender=Masc|Number=Sing|PronType=Art),\n",
              " ('Super', Gender=Masc|Number=Sing),\n",
              " ('Bowl', Number=Sing),\n",
              " ('em', ),\n",
              " ('temporadas', Gender=Fem|Number=Plur),\n",
              " ('consecutivas', Gender=Fem|Number=Plur),\n",
              " ('.', ),\n",
              " ('No', Definite=Def|Gender=Masc|Number=Sing|PronType=Art),\n",
              " ('ano', Gender=Masc|Number=Sing),\n",
              " ('passado', Gender=Masc|Number=Sing),\n",
              " (',', ),\n",
              " ('Peyton', Gender=Masc|Number=Sing),\n",
              " ('Manning', Number=Sing),\n",
              " (',', ),\n",
              " ('irmão', Gender=Masc|Number=Sing),\n",
              " ('de', ),\n",
              " ('Eli', Gender=Masc|Number=Sing),\n",
              " (',', ),\n",
              " ('chegou', Mood=Ind|Number=Sing|Person=3|Tense=Past|VerbForm=Fin),\n",
              " ('ao', Definite=Def|Gender=Masc|Number=Sing|PronType=Art),\n",
              " ('título', Gender=Masc|Number=Sing),\n",
              " ('máximo', Gender=Masc|Number=Sing),\n",
              " ('da', Definite=Def|Gender=Fem|Number=Sing|PronType=Art),\n",
              " ('NFL', Gender=Fem|Number=Sing),\n",
              " ('pelo', Definite=Def|Gender=Masc|Number=Sing|PronType=Art),\n",
              " ('Indianapolis', Gender=Masc|Number=Sing),\n",
              " ('Colts', Number=Sing),\n",
              " ('.', )]"
            ]
          },
          "metadata": {
            "tags": []
          },
          "execution_count": 21
        }
      ]
    },
    {
      "cell_type": "markdown",
      "metadata": {
        "id": "jt7VITC-bqOj"
      },
      "source": [
        "### **Entidades nomeadas**"
      ]
    },
    {
      "cell_type": "code",
      "metadata": {
        "id": "ZNAVqE2HZnNg"
      },
      "source": [
        "import spacy \n",
        "\n",
        "texto = \"A vitória dos Giants, porém, também ficará para a história. Pela primeira vez, irmãos quarterbacks triunfam no Super Bowl em temporadas consecutivas. No ano passado, Peyton Manning, irmão de Eli, chegou ao título máximo da NFL pelo Indianapolis Colts.\"\n",
        "\n",
        "nlp = spacy.load('pt_core_news_lg')\n",
        "\n",
        "doc = nlp(texto)\n",
        "\n",
        "entidades = list(doc.ents)"
      ],
      "execution_count": 22,
      "outputs": []
    },
    {
      "cell_type": "code",
      "metadata": {
        "id": "n-NkPf2XcF4I",
        "colab": {
          "base_uri": "https://localhost:8080/"
        },
        "outputId": "23273d2b-0834-4dc9-9a0a-f307fad1e49d"
      },
      "source": [
        "entidades"
      ],
      "execution_count": 23,
      "outputs": [
        {
          "output_type": "execute_result",
          "data": {
            "text/plain": [
              "[Giants, Super Bowl, Peyton Manning, Eli, NFL, Indianapolis Colts]"
            ]
          },
          "metadata": {
            "tags": []
          },
          "execution_count": 23
        }
      ]
    },
    {
      "cell_type": "markdown",
      "metadata": {
        "id": "63m3b30nj09m"
      },
      "source": [
        "Detalhando as entidades:"
      ]
    },
    {
      "cell_type": "code",
      "metadata": {
        "id": "DhPfsovlcxZl"
      },
      "source": [
        "ent_det = [(entidade, entidade.label_) for entidade in entidades]"
      ],
      "execution_count": 24,
      "outputs": []
    },
    {
      "cell_type": "code",
      "metadata": {
        "id": "xN8ADSTOkCHk",
        "colab": {
          "base_uri": "https://localhost:8080/"
        },
        "outputId": "cc3dd45a-970f-434e-c214-f4a40d42a175"
      },
      "source": [
        "ent_det "
      ],
      "execution_count": 25,
      "outputs": [
        {
          "output_type": "execute_result",
          "data": {
            "text/plain": [
              "[(Giants, 'ORG'),\n",
              " (Super Bowl, 'ORG'),\n",
              " (Peyton Manning, 'PER'),\n",
              " (Eli, 'PER'),\n",
              " (NFL, 'ORG'),\n",
              " (Indianapolis Colts, 'ORG')]"
            ]
          },
          "metadata": {
            "tags": []
          },
          "execution_count": 25
        }
      ]
    },
    {
      "cell_type": "markdown",
      "metadata": {
        "id": "HkKFeocEkpOS"
      },
      "source": [
        "Visualizar entidades de forma gráfica:"
      ]
    },
    {
      "cell_type": "code",
      "metadata": {
        "id": "Hgg9uNajkDTn"
      },
      "source": [
        "import spacy\n",
        "from pathlib import Path"
      ],
      "execution_count": 26,
      "outputs": []
    },
    {
      "cell_type": "code",
      "metadata": {
        "id": "XvSLIT26mTeC",
        "colab": {
          "base_uri": "https://localhost:8080/"
        },
        "outputId": "dcae6d61-821f-4182-f506-1bae3c2fc45e"
      },
      "source": [
        "html = spacy.displacy.render(doc, style = 'ent')\n",
        "\n",
        "open('/content/drive/MyDrive/Cursos/PLN_USP/entidades_nomeadas.html', 'w', encoding = 'utf-8').write(html)"
      ],
      "execution_count": 27,
      "outputs": [
        {
          "output_type": "execute_result",
          "data": {
            "text/plain": [
              "2078"
            ]
          },
          "metadata": {
            "tags": []
          },
          "execution_count": 27
        }
      ]
    },
    {
      "cell_type": "code",
      "metadata": {
        "id": "RU1Ov14ZpCsB",
        "colab": {
          "base_uri": "https://localhost:8080/",
          "height": 238
        },
        "outputId": "75f258d3-70d0-41b9-e889-a68eb62a38e1"
      },
      "source": [
        "html"
      ],
      "execution_count": 28,
      "outputs": [
        {
          "output_type": "execute_result",
          "data": {
            "application/vnd.google.colaboratory.intrinsic+json": {
              "type": "string"
            },
            "text/plain": [
              "'<div class=\"entities\" style=\"line-height: 2.5; direction: ltr\">A vitória dos \\n<mark class=\"entity\" style=\"background: #7aecec; padding: 0.45em 0.6em; margin: 0 0.25em; line-height: 1; border-radius: 0.35em;\">\\n    Giants\\n    <span style=\"font-size: 0.8em; font-weight: bold; line-height: 1; border-radius: 0.35em; vertical-align: middle; margin-left: 0.5rem\">ORG</span>\\n</mark>\\n, porém, também ficará para a história. Pela primeira vez, irmãos quarterbacks triunfam no \\n<mark class=\"entity\" style=\"background: #7aecec; padding: 0.45em 0.6em; margin: 0 0.25em; line-height: 1; border-radius: 0.35em;\">\\n    Super Bowl\\n    <span style=\"font-size: 0.8em; font-weight: bold; line-height: 1; border-radius: 0.35em; vertical-align: middle; margin-left: 0.5rem\">ORG</span>\\n</mark>\\n em temporadas consecutivas. No ano passado, \\n<mark class=\"entity\" style=\"background: #ddd; padding: 0.45em 0.6em; margin: 0 0.25em; line-height: 1; border-radius: 0.35em;\">\\n    Peyton Manning\\n    <span style=\"font-size: 0.8em; font-weight: bold; line-height: 1; border-radius: 0.35em; vertical-align: middle; margin-left: 0.5rem\">PER</span>\\n</mark>\\n, irmão de \\n<mark class=\"entity\" style=\"background: #ddd; padding: 0.45em 0.6em; margin: 0 0.25em; line-height: 1; border-radius: 0.35em;\">\\n    Eli\\n    <span style=\"font-size: 0.8em; font-weight: bold; line-height: 1; border-radius: 0.35em; vertical-align: middle; margin-left: 0.5rem\">PER</span>\\n</mark>\\n, chegou ao título máximo da \\n<mark class=\"entity\" style=\"background: #7aecec; padding: 0.45em 0.6em; margin: 0 0.25em; line-height: 1; border-radius: 0.35em;\">\\n    NFL\\n    <span style=\"font-size: 0.8em; font-weight: bold; line-height: 1; border-radius: 0.35em; vertical-align: middle; margin-left: 0.5rem\">ORG</span>\\n</mark>\\n pelo \\n<mark class=\"entity\" style=\"background: #7aecec; padding: 0.45em 0.6em; margin: 0 0.25em; line-height: 1; border-radius: 0.35em;\">\\n    Indianapolis Colts\\n    <span style=\"font-size: 0.8em; font-weight: bold; line-height: 1; border-radius: 0.35em; vertical-align: middle; margin-left: 0.5rem\">ORG</span>\\n</mark>\\n.</div>'"
            ]
          },
          "metadata": {
            "tags": []
          },
          "execution_count": 28
        }
      ]
    },
    {
      "cell_type": "markdown",
      "metadata": {
        "id": "S7OzxbVzq3fE"
      },
      "source": [
        "Exemplo:"
      ]
    },
    {
      "cell_type": "markdown",
      "metadata": {
        "id": "C36oAvLVq54Z"
      },
      "source": [
        "![entidades_nomeadas_exemplo.PNG](data:image/png;base64,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)"
      ]
    },
    {
      "cell_type": "markdown",
      "metadata": {
        "id": "1BMkDKmznjDO"
      },
      "source": [
        "### **Análise sintática**"
      ]
    },
    {
      "cell_type": "code",
      "metadata": {
        "id": "Y_A9ydGElHoa"
      },
      "source": [
        "import spacy \n",
        "\n",
        "texto = \"A vitória dos Giants, porém, também ficará para a história. Pela primeira vez, irmãos quarterbacks triunfam no Super Bowl em temporadas consecutivas. No ano passado, Peyton Manning, irmão de Eli, chegou ao título máximo da NFL pelo Indianapolis Colts.\"\n",
        "\n",
        "nlp = spacy.load('pt_core_news_lg')\n",
        "\n",
        "doc = nlp(texto)\n",
        "\n",
        "sintatica = [(token.orth_, token.dep_) for token in doc]"
      ],
      "execution_count": 29,
      "outputs": []
    },
    {
      "cell_type": "code",
      "metadata": {
        "id": "Dv4i6lN1oGtF",
        "colab": {
          "base_uri": "https://localhost:8080/"
        },
        "outputId": "ac843bbc-73ab-4228-b819-9a441dab8ff2"
      },
      "source": [
        "sintatica"
      ],
      "execution_count": 30,
      "outputs": [
        {
          "output_type": "execute_result",
          "data": {
            "text/plain": [
              "[('A', 'det'),\n",
              " ('vitória', 'nsubj'),\n",
              " ('dos', 'case'),\n",
              " ('Giants', 'nmod'),\n",
              " (',', 'punct'),\n",
              " ('porém', 'cc'),\n",
              " (',', 'punct'),\n",
              " ('também', 'advmod'),\n",
              " ('ficará', 'ROOT'),\n",
              " ('para', 'case'),\n",
              " ('a', 'det'),\n",
              " ('história', 'obl'),\n",
              " ('.', 'punct'),\n",
              " ('Pela', 'obl'),\n",
              " ('primeira', 'case'),\n",
              " ('vez', 'nmod'),\n",
              " (',', 'punct'),\n",
              " ('irmãos', 'nsubj'),\n",
              " ('quarterbacks', 'appos'),\n",
              " ('triunfam', 'ROOT'),\n",
              " ('no', 'case'),\n",
              " ('Super', 'obl'),\n",
              " ('Bowl', 'flat:name'),\n",
              " ('em', 'case'),\n",
              " ('temporadas', 'obl'),\n",
              " ('consecutivas', 'amod'),\n",
              " ('.', 'punct'),\n",
              " ('No', 'case'),\n",
              " ('ano', 'obl'),\n",
              " ('passado', 'amod'),\n",
              " (',', 'punct'),\n",
              " ('Peyton', 'nsubj'),\n",
              " ('Manning', 'flat:name'),\n",
              " (',', 'punct'),\n",
              " ('irmão', 'appos'),\n",
              " ('de', 'case'),\n",
              " ('Eli', 'nmod'),\n",
              " (',', 'punct'),\n",
              " ('chegou', 'ROOT'),\n",
              " ('ao', 'case'),\n",
              " ('título', 'obl'),\n",
              " ('máximo', 'amod'),\n",
              " ('da', 'case'),\n",
              " ('NFL', 'nmod'),\n",
              " ('pelo', 'case'),\n",
              " ('Indianapolis', 'obl'),\n",
              " ('Colts', 'flat:name'),\n",
              " ('.', 'punct')]"
            ]
          },
          "metadata": {
            "tags": []
          },
          "execution_count": 30
        }
      ]
    },
    {
      "cell_type": "code",
      "metadata": {
        "id": "HriGc-HqoHmL",
        "colab": {
          "base_uri": "https://localhost:8080/"
        },
        "outputId": "b61c9c5a-f87e-4dcf-bf7a-5a81a1cb7b03"
      },
      "source": [
        "svg = spacy.displacy.render(doc, style = 'dep')\n",
        "open('/content/drive/MyDrive/Cursos/PLN_USP/analise_sintatica.svg', 'w', encoding = 'utf-8').write(svg)"
      ],
      "execution_count": 31,
      "outputs": [
        {
          "output_type": "execute_result",
          "data": {
            "text/plain": [
              "31195"
            ]
          },
          "metadata": {
            "tags": []
          },
          "execution_count": 31
        }
      ]
    },
    {
      "cell_type": "code",
      "metadata": {
        "id": "cVTa-hjXoyi0",
        "colab": {
          "base_uri": "https://localhost:8080/",
          "height": 238
        },
        "outputId": "63943731-7514-4711-ae78-bc19e16b8bc7"
      },
      "source": [
        "svg"
      ],
      "execution_count": 32,
      "outputs": [
        {
          "output_type": "execute_result",
          "data": {
            "application/vnd.google.colaboratory.intrinsic+json": {
              "type": "string"
            },
            "text/plain": [
              "'<svg xmlns=\"http://www.w3.org/2000/svg\" xmlns:xlink=\"http://www.w3.org/1999/xlink\" xml:lang=\"pt\" id=\"03edde44e5c54dbbb480c69636322202-0\" class=\"displacy\" width=\"6875\" height=\"574.5\" direction=\"ltr\" style=\"max-width: none; height: 574.5px; color: #000000; background: #ffffff; font-family: Arial; direction: ltr\">\\n<text class=\"displacy-token\" fill=\"currentColor\" text-anchor=\"middle\" y=\"484.5\">\\n    <tspan class=\"displacy-word\" fill=\"currentColor\" x=\"50\">A</tspan>\\n    <tspan class=\"displacy-tag\" dy=\"2em\" fill=\"currentColor\" x=\"50\">DET</tspan>\\n</text>\\n\\n<text class=\"displacy-token\" fill=\"currentColor\" text-anchor=\"middle\" y=\"484.5\">\\n    <tspan class=\"displacy-word\" fill=\"currentColor\" x=\"225\">vitória</tspan>\\n    <tspan class=\"displacy-tag\" dy=\"2em\" fill=\"currentColor\" x=\"225\">NOUN</tspan>\\n</text>\\n\\n<text class=\"displacy-token\" fill=\"currentColor\" text-anchor=\"middle\" y=\"484.5\">\\n    <tspan class=\"displacy-word\" fill=\"currentColor\" x=\"400\">dos</tspan>\\n    <tspan class=\"displacy-tag\" dy=\"2em\" fill=\"currentColor\" x=\"400\">ADP</tspan>\\n</text>\\n\\n<text class=\"displacy-token\" fill=\"currentColor\" text-anchor=\"middle\" y=\"484.5\">\\n    <tspan class=\"displacy-word\" fill=\"currentColor\" x=\"575\">Giants,</tspan>\\n    <tspan class=\"displacy-tag\" dy=\"2em\" fill=\"currentColor\" x=\"575\">PROPN</tspan>\\n</text>\\n\\n<text class=\"displacy-token\" fill=\"currentColor\" text-anchor=\"middle\" y=\"484.5\">\\n    <tspan class=\"displacy-word\" fill=\"currentColor\" x=\"750\">porém,</tspan>\\n    <tspan class=\"displacy-tag\" dy=\"2em\" fill=\"currentColor\" x=\"750\">CCONJ</tspan>\\n</text>\\n\\n<text class=\"displacy-token\" fill=\"currentColor\" text-anchor=\"middle\" y=\"484.5\">\\n    <tspan class=\"displacy-word\" fill=\"currentColor\" x=\"925\">também</tspan>\\n    <tspan class=\"displacy-tag\" dy=\"2em\" fill=\"currentColor\" x=\"925\">ADV</tspan>\\n</text>\\n\\n<text class=\"displacy-token\" fill=\"currentColor\" text-anchor=\"middle\" y=\"484.5\">\\n    <tspan class=\"displacy-word\" fill=\"currentColor\" x=\"1100\">ficará</tspan>\\n    <tspan class=\"displacy-tag\" dy=\"2em\" fill=\"currentColor\" x=\"1100\">VERB</tspan>\\n</text>\\n\\n<text class=\"displacy-token\" fill=\"currentColor\" text-anchor=\"middle\" y=\"484.5\">\\n    <tspan class=\"displacy-word\" fill=\"currentColor\" x=\"1275\">para</tspan>\\n    <tspan class=\"displacy-tag\" dy=\"2em\" fill=\"currentColor\" x=\"1275\">ADP</tspan>\\n</text>\\n\\n<text class=\"displacy-token\" fill=\"currentColor\" text-anchor=\"middle\" y=\"484.5\">\\n    <tspan class=\"displacy-word\" fill=\"currentColor\" x=\"1450\">a</tspan>\\n    <tspan class=\"displacy-tag\" dy=\"2em\" fill=\"currentColor\" x=\"1450\">DET</tspan>\\n</text>\\n\\n<text class=\"displacy-token\" fill=\"currentColor\" text-anchor=\"middle\" y=\"484.5\">\\n    <tspan class=\"displacy-word\" fill=\"currentColor\" x=\"1625\">história.</tspan>\\n    <tspan class=\"displacy-tag\" dy=\"2em\" fill=\"currentColor\" x=\"1625\">NOUN</tspan>\\n</text>\\n\\n<text class=\"displacy-token\" fill=\"currentColor\" text-anchor=\"middle\" y=\"484.5\">\\n    <tspan class=\"displacy-word\" fill=\"currentColor\" x=\"1800\">Pela</tspan>\\n    <tspan class=\"displacy-tag\" dy=\"2em\" fill=\"currentColor\" x=\"1800\">NOUN</tspan>\\n</text>\\n\\n<text class=\"displacy-token\" fill=\"currentColor\" text-anchor=\"middle\" y=\"484.5\">\\n    <tspan class=\"displacy-word\" fill=\"currentColor\" x=\"1975\">primeira</tspan>\\n    <tspan class=\"displacy-tag\" dy=\"2em\" fill=\"currentColor\" x=\"1975\">ADP</tspan>\\n</text>\\n\\n<text class=\"displacy-token\" fill=\"currentColor\" text-anchor=\"middle\" y=\"484.5\">\\n    <tspan class=\"displacy-word\" fill=\"currentColor\" x=\"2150\">vez,</tspan>\\n    <tspan class=\"displacy-tag\" dy=\"2em\" fill=\"currentColor\" x=\"2150\">NOUN</tspan>\\n</text>\\n\\n<text class=\"displacy-token\" fill=\"currentColor\" text-anchor=\"middle\" y=\"484.5\">\\n    <tspan class=\"displacy-word\" fill=\"currentColor\" x=\"2325\">irmãos</tspan>\\n    <tspan class=\"displacy-tag\" dy=\"2em\" fill=\"currentColor\" x=\"2325\">NOUN</tspan>\\n</text>\\n\\n<text class=\"displacy-token\" fill=\"currentColor\" text-anchor=\"middle\" y=\"484.5\">\\n    <tspan class=\"displacy-word\" fill=\"currentColor\" x=\"2500\">quarterbacks</tspan>\\n    <tspan class=\"displacy-tag\" dy=\"2em\" fill=\"currentColor\" x=\"2500\">NOUN</tspan>\\n</text>\\n\\n<text class=\"displacy-token\" fill=\"currentColor\" text-anchor=\"middle\" y=\"484.5\">\\n    <tspan class=\"displacy-word\" fill=\"currentColor\" x=\"2675\">triunfam</tspan>\\n    <tspan class=\"displacy-tag\" dy=\"2em\" fill=\"currentColor\" x=\"2675\">VERB</tspan>\\n</text>\\n\\n<text class=\"displacy-token\" fill=\"currentColor\" text-anchor=\"middle\" y=\"484.5\">\\n    <tspan class=\"displacy-word\" fill=\"currentColor\" x=\"2850\">no</tspan>\\n    <tspan class=\"displacy-tag\" dy=\"2em\" fill=\"currentColor\" x=\"2850\">ADP</tspan>\\n</text>\\n\\n<text class=\"displacy-token\" fill=\"currentColor\" text-anchor=\"middle\" y=\"484.5\">\\n    <tspan class=\"displacy-word\" fill=\"currentColor\" x=\"3025\">Super</tspan>\\n    <tspan class=\"displacy-tag\" dy=\"2em\" fill=\"currentColor\" x=\"3025\">PROPN</tspan>\\n</text>\\n\\n<text class=\"displacy-token\" fill=\"currentColor\" text-anchor=\"middle\" y=\"484.5\">\\n    <tspan class=\"displacy-word\" fill=\"currentColor\" x=\"3200\">Bowl</tspan>\\n    <tspan class=\"displacy-tag\" dy=\"2em\" fill=\"currentColor\" x=\"3200\">PROPN</tspan>\\n</text>\\n\\n<text class=\"displacy-token\" fill=\"currentColor\" text-anchor=\"middle\" y=\"484.5\">\\n    <tspan class=\"displacy-word\" fill=\"currentColor\" x=\"3375\">em</tspan>\\n    <tspan class=\"displacy-tag\" dy=\"2em\" fill=\"currentColor\" x=\"3375\">ADP</tspan>\\n</text>\\n\\n<text class=\"displacy-token\" fill=\"currentColor\" text-anchor=\"middle\" y=\"484.5\">\\n    <tspan class=\"displacy-word\" fill=\"currentColor\" x=\"3550\">temporadas</tspan>\\n    <tspan class=\"displacy-tag\" dy=\"2em\" fill=\"currentColor\" x=\"3550\">NOUN</tspan>\\n</text>\\n\\n<text class=\"displacy-token\" fill=\"currentColor\" text-anchor=\"middle\" y=\"484.5\">\\n    <tspan class=\"displacy-word\" fill=\"currentColor\" x=\"3725\">consecutivas.</tspan>\\n    <tspan class=\"displacy-tag\" dy=\"2em\" fill=\"currentColor\" x=\"3725\">ADJ</tspan>\\n</text>\\n\\n<text class=\"displacy-token\" fill=\"currentColor\" text-anchor=\"middle\" y=\"484.5\">\\n    <tspan class=\"displacy-word\" fill=\"currentColor\" x=\"3900\">No</tspan>\\n    <tspan class=\"displacy-tag\" dy=\"2em\" fill=\"currentColor\" x=\"3900\">ADP</tspan>\\n</text>\\n\\n<text class=\"displacy-token\" fill=\"currentColor\" text-anchor=\"middle\" y=\"484.5\">\\n    <tspan class=\"displacy-word\" fill=\"currentColor\" x=\"4075\">ano</tspan>\\n    <tspan class=\"displacy-tag\" dy=\"2em\" fill=\"currentColor\" x=\"4075\">NOUN</tspan>\\n</text>\\n\\n<text class=\"displacy-token\" fill=\"currentColor\" text-anchor=\"middle\" y=\"484.5\">\\n    <tspan class=\"displacy-word\" fill=\"currentColor\" x=\"4250\">passado,</tspan>\\n    <tspan class=\"displacy-tag\" dy=\"2em\" fill=\"currentColor\" x=\"4250\">ADJ</tspan>\\n</text>\\n\\n<text class=\"displacy-token\" fill=\"currentColor\" text-anchor=\"middle\" y=\"484.5\">\\n    <tspan class=\"displacy-word\" fill=\"currentColor\" x=\"4425\">Peyton</tspan>\\n    <tspan class=\"displacy-tag\" dy=\"2em\" fill=\"currentColor\" x=\"4425\">PROPN</tspan>\\n</text>\\n\\n<text class=\"displacy-token\" fill=\"currentColor\" text-anchor=\"middle\" y=\"484.5\">\\n    <tspan class=\"displacy-word\" fill=\"currentColor\" x=\"4600\">Manning,</tspan>\\n    <tspan class=\"displacy-tag\" dy=\"2em\" fill=\"currentColor\" x=\"4600\">PROPN</tspan>\\n</text>\\n\\n<text class=\"displacy-token\" fill=\"currentColor\" text-anchor=\"middle\" y=\"484.5\">\\n    <tspan class=\"displacy-word\" fill=\"currentColor\" x=\"4775\">irmão</tspan>\\n    <tspan class=\"displacy-tag\" dy=\"2em\" fill=\"currentColor\" x=\"4775\">NOUN</tspan>\\n</text>\\n\\n<text class=\"displacy-token\" fill=\"currentColor\" text-anchor=\"middle\" y=\"484.5\">\\n    <tspan class=\"displacy-word\" fill=\"currentColor\" x=\"4950\">de</tspan>\\n    <tspan class=\"displacy-tag\" dy=\"2em\" fill=\"currentColor\" x=\"4950\">ADP</tspan>\\n</text>\\n\\n<text class=\"displacy-token\" fill=\"currentColor\" text-anchor=\"middle\" y=\"484.5\">\\n    <tspan class=\"displacy-word\" fill=\"currentColor\" x=\"5125\">Eli,</tspan>\\n    <tspan class=\"displacy-tag\" dy=\"2em\" fill=\"currentColor\" x=\"5125\">PROPN</tspan>\\n</text>\\n\\n<text class=\"displacy-token\" fill=\"currentColor\" text-anchor=\"middle\" y=\"484.5\">\\n    <tspan class=\"displacy-word\" fill=\"currentColor\" x=\"5300\">chegou</tspan>\\n    <tspan class=\"displacy-tag\" dy=\"2em\" fill=\"currentColor\" x=\"5300\">VERB</tspan>\\n</text>\\n\\n<text class=\"displacy-token\" fill=\"currentColor\" text-anchor=\"middle\" y=\"484.5\">\\n    <tspan class=\"displacy-word\" fill=\"currentColor\" x=\"5475\">ao</tspan>\\n    <tspan class=\"displacy-tag\" dy=\"2em\" fill=\"currentColor\" x=\"5475\">ADP</tspan>\\n</text>\\n\\n<text class=\"displacy-token\" fill=\"currentColor\" text-anchor=\"middle\" y=\"484.5\">\\n    <tspan class=\"displacy-word\" fill=\"currentColor\" x=\"5650\">título</tspan>\\n    <tspan class=\"displacy-tag\" dy=\"2em\" fill=\"currentColor\" x=\"5650\">NOUN</tspan>\\n</text>\\n\\n<text class=\"displacy-token\" fill=\"currentColor\" text-anchor=\"middle\" y=\"484.5\">\\n    <tspan class=\"displacy-word\" fill=\"currentColor\" x=\"5825\">máximo</tspan>\\n    <tspan class=\"displacy-tag\" dy=\"2em\" fill=\"currentColor\" x=\"5825\">ADJ</tspan>\\n</text>\\n\\n<text class=\"displacy-token\" fill=\"currentColor\" text-anchor=\"middle\" y=\"484.5\">\\n    <tspan class=\"displacy-word\" fill=\"currentColor\" x=\"6000\">da</tspan>\\n    <tspan class=\"displacy-tag\" dy=\"2em\" fill=\"currentColor\" x=\"6000\">ADP</tspan>\\n</text>\\n\\n<text class=\"displacy-token\" fill=\"currentColor\" text-anchor=\"middle\" y=\"484.5\">\\n    <tspan class=\"displacy-word\" fill=\"currentColor\" x=\"6175\">NFL</tspan>\\n    <tspan class=\"displacy-tag\" dy=\"2em\" fill=\"currentColor\" x=\"6175\">PROPN</tspan>\\n</text>\\n\\n<text class=\"displacy-token\" fill=\"currentColor\" text-anchor=\"middle\" y=\"484.5\">\\n    <tspan class=\"displacy-word\" fill=\"currentColor\" x=\"6350\">pelo</tspan>\\n    <tspan class=\"displacy-tag\" dy=\"2em\" fill=\"currentColor\" x=\"6350\">ADP</tspan>\\n</text>\\n\\n<text class=\"displacy-token\" fill=\"currentColor\" text-anchor=\"middle\" y=\"484.5\">\\n    <tspan class=\"displacy-word\" fill=\"currentColor\" x=\"6525\">Indianapolis</tspan>\\n    <tspan class=\"displacy-tag\" dy=\"2em\" fill=\"currentColor\" x=\"6525\">PROPN</tspan>\\n</text>\\n\\n<text class=\"displacy-token\" fill=\"currentColor\" text-anchor=\"middle\" y=\"484.5\">\\n    <tspan class=\"displacy-word\" fill=\"currentColor\" x=\"6700\">Colts.</tspan>\\n    <tspan class=\"displacy-tag\" dy=\"2em\" fill=\"currentColor\" x=\"6700\">PROPN</tspan>\\n</text>\\n\\n<g class=\"displacy-arrow\">\\n    <path class=\"displacy-arc\" id=\"arrow-03edde44e5c54dbbb480c69636322202-0-0\" stroke-width=\"2px\" d=\"M70,439.5 C70,352.0 205.0,352.0 205.0,439.5\" fill=\"none\" stroke=\"currentColor\"/>\\n    <text dy=\"1.25em\" style=\"font-size: 0.8em; letter-spacing: 1px\">\\n        <textPath xlink:href=\"#arrow-03edde44e5c54dbbb480c69636322202-0-0\" class=\"displacy-label\" startOffset=\"50%\" side=\"left\" fill=\"currentColor\" text-anchor=\"middle\">det</textPath>\\n    </text>\\n    <path class=\"displacy-arrowhead\" d=\"M70,441.5 L62,429.5 78,429.5\" fill=\"currentColor\"/>\\n</g>\\n\\n<g class=\"displacy-arrow\">\\n    <path class=\"displacy-arc\" id=\"arrow-03edde44e5c54dbbb480c69636322202-0-1\" stroke-width=\"2px\" d=\"M245,439.5 C245,89.5 1095.0,89.5 1095.0,439.5\" fill=\"none\" stroke=\"currentColor\"/>\\n    <text dy=\"1.25em\" style=\"font-size: 0.8em; letter-spacing: 1px\">\\n        <textPath xlink:href=\"#arrow-03edde44e5c54dbbb480c69636322202-0-1\" class=\"displacy-label\" startOffset=\"50%\" side=\"left\" fill=\"currentColor\" text-anchor=\"middle\">nsubj</textPath>\\n    </text>\\n    <path class=\"displacy-arrowhead\" d=\"M245,441.5 L237,429.5 253,429.5\" fill=\"currentColor\"/>\\n</g>\\n\\n<g class=\"displacy-arrow\">\\n    <path class=\"displacy-arc\" id=\"arrow-03edde44e5c54dbbb480c69636322202-0-2\" stroke-width=\"2px\" d=\"M420,439.5 C420,352.0 555.0,352.0 555.0,439.5\" fill=\"none\" stroke=\"currentColor\"/>\\n    <text dy=\"1.25em\" style=\"font-size: 0.8em; letter-spacing: 1px\">\\n        <textPath xlink:href=\"#arrow-03edde44e5c54dbbb480c69636322202-0-2\" class=\"displacy-label\" startOffset=\"50%\" side=\"left\" fill=\"currentColor\" text-anchor=\"middle\">case</textPath>\\n    </text>\\n    <path class=\"displacy-arrowhead\" d=\"M420,441.5 L412,429.5 428,429.5\" fill=\"currentColor\"/>\\n</g>\\n\\n<g class=\"displacy-arrow\">\\n    <path class=\"displacy-arc\" id=\"arrow-03edde44e5c54dbbb480c69636322202-0-3\" stroke-width=\"2px\" d=\"M245,439.5 C245,264.5 560.0,264.5 560.0,439.5\" fill=\"none\" stroke=\"currentColor\"/>\\n    <text dy=\"1.25em\" style=\"font-size: 0.8em; letter-spacing: 1px\">\\n        <textPath xlink:href=\"#arrow-03edde44e5c54dbbb480c69636322202-0-3\" class=\"displacy-label\" startOffset=\"50%\" side=\"left\" fill=\"currentColor\" text-anchor=\"middle\">nmod</textPath>\\n    </text>\\n    <path class=\"displacy-arrowhead\" d=\"M560.0,441.5 L568.0,429.5 552.0,429.5\" fill=\"currentColor\"/>\\n</g>\\n\\n<g class=\"displacy-arrow\">\\n    <path class=\"displacy-arc\" id=\"arrow-03edde44e5c54dbbb480c69636322202-0-4\" stroke-width=\"2px\" d=\"M770,439.5 C770,264.5 1085.0,264.5 1085.0,439.5\" fill=\"none\" stroke=\"currentColor\"/>\\n    <text dy=\"1.25em\" style=\"font-size: 0.8em; letter-spacing: 1px\">\\n        <textPath xlink:href=\"#arrow-03edde44e5c54dbbb480c69636322202-0-4\" class=\"displacy-label\" startOffset=\"50%\" side=\"left\" fill=\"currentColor\" text-anchor=\"middle\">cc</textPath>\\n    </text>\\n    <path class=\"displacy-arrowhead\" d=\"M770,441.5 L762,429.5 778,429.5\" fill=\"currentColor\"/>\\n</g>\\n\\n<g class=\"displacy-arrow\">\\n    <path class=\"displacy-arc\" id=\"arrow-03edde44e5c54dbbb480c69636322202-0-5\" stroke-width=\"2px\" d=\"M945,439.5 C945,352.0 1080.0,352.0 1080.0,439.5\" fill=\"none\" stroke=\"currentColor\"/>\\n    <text dy=\"1.25em\" style=\"font-size: 0.8em; letter-spacing: 1px\">\\n        <textPath xlink:href=\"#arrow-03edde44e5c54dbbb480c69636322202-0-5\" class=\"displacy-label\" startOffset=\"50%\" side=\"left\" fill=\"currentColor\" text-anchor=\"middle\">advmod</textPath>\\n    </text>\\n    <path class=\"displacy-arrowhead\" d=\"M945,441.5 L937,429.5 953,429.5\" fill=\"currentColor\"/>\\n</g>\\n\\n<g class=\"displacy-arrow\">\\n    <path class=\"displacy-arc\" id=\"arrow-03edde44e5c54dbbb480c69636322202-0-6\" stroke-width=\"2px\" d=\"M1295,439.5 C1295,264.5 1610.0,264.5 1610.0,439.5\" fill=\"none\" stroke=\"currentColor\"/>\\n    <text dy=\"1.25em\" style=\"font-size: 0.8em; letter-spacing: 1px\">\\n        <textPath xlink:href=\"#arrow-03edde44e5c54dbbb480c69636322202-0-6\" class=\"displacy-label\" startOffset=\"50%\" side=\"left\" fill=\"currentColor\" text-anchor=\"middle\">case</textPath>\\n    </text>\\n    <path class=\"displacy-arrowhead\" d=\"M1295,441.5 L1287,429.5 1303,429.5\" fill=\"currentColor\"/>\\n</g>\\n\\n<g class=\"displacy-arrow\">\\n    <path class=\"displacy-arc\" id=\"arrow-03edde44e5c54dbbb480c69636322202-0-7\" stroke-width=\"2px\" d=\"M1470,439.5 C1470,352.0 1605.0,352.0 1605.0,439.5\" fill=\"none\" stroke=\"currentColor\"/>\\n    <text dy=\"1.25em\" style=\"font-size: 0.8em; letter-spacing: 1px\">\\n        <textPath xlink:href=\"#arrow-03edde44e5c54dbbb480c69636322202-0-7\" class=\"displacy-label\" startOffset=\"50%\" side=\"left\" fill=\"currentColor\" text-anchor=\"middle\">det</textPath>\\n    </text>\\n    <path class=\"displacy-arrowhead\" d=\"M1470,441.5 L1462,429.5 1478,429.5\" fill=\"currentColor\"/>\\n</g>\\n\\n<g class=\"displacy-arrow\">\\n    <path class=\"displacy-arc\" id=\"arrow-03edde44e5c54dbbb480c69636322202-0-8\" stroke-width=\"2px\" d=\"M1120,439.5 C1120,177.0 1615.0,177.0 1615.0,439.5\" fill=\"none\" stroke=\"currentColor\"/>\\n    <text dy=\"1.25em\" style=\"font-size: 0.8em; letter-spacing: 1px\">\\n        <textPath xlink:href=\"#arrow-03edde44e5c54dbbb480c69636322202-0-8\" class=\"displacy-label\" startOffset=\"50%\" side=\"left\" fill=\"currentColor\" text-anchor=\"middle\">obl</textPath>\\n    </text>\\n    <path class=\"displacy-arrowhead\" d=\"M1615.0,441.5 L1623.0,429.5 1607.0,429.5\" fill=\"currentColor\"/>\\n</g>\\n\\n<g class=\"displacy-arrow\">\\n    <path class=\"displacy-arc\" id=\"arrow-03edde44e5c54dbbb480c69636322202-0-9\" stroke-width=\"2px\" d=\"M1820,439.5 C1820,89.5 2670.0,89.5 2670.0,439.5\" fill=\"none\" stroke=\"currentColor\"/>\\n    <text dy=\"1.25em\" style=\"font-size: 0.8em; letter-spacing: 1px\">\\n        <textPath xlink:href=\"#arrow-03edde44e5c54dbbb480c69636322202-0-9\" class=\"displacy-label\" startOffset=\"50%\" side=\"left\" fill=\"currentColor\" text-anchor=\"middle\">obl</textPath>\\n    </text>\\n    <path class=\"displacy-arrowhead\" d=\"M1820,441.5 L1812,429.5 1828,429.5\" fill=\"currentColor\"/>\\n</g>\\n\\n<g class=\"displacy-arrow\">\\n    <path class=\"displacy-arc\" id=\"arrow-03edde44e5c54dbbb480c69636322202-0-10\" stroke-width=\"2px\" d=\"M1995,439.5 C1995,352.0 2130.0,352.0 2130.0,439.5\" fill=\"none\" stroke=\"currentColor\"/>\\n    <text dy=\"1.25em\" style=\"font-size: 0.8em; letter-spacing: 1px\">\\n        <textPath xlink:href=\"#arrow-03edde44e5c54dbbb480c69636322202-0-10\" class=\"displacy-label\" startOffset=\"50%\" side=\"left\" fill=\"currentColor\" text-anchor=\"middle\">case</textPath>\\n    </text>\\n    <path class=\"displacy-arrowhead\" d=\"M1995,441.5 L1987,429.5 2003,429.5\" fill=\"currentColor\"/>\\n</g>\\n\\n<g class=\"displacy-arrow\">\\n    <path class=\"displacy-arc\" id=\"arrow-03edde44e5c54dbbb480c69636322202-0-11\" stroke-width=\"2px\" d=\"M1820,439.5 C1820,264.5 2135.0,264.5 2135.0,439.5\" fill=\"none\" stroke=\"currentColor\"/>\\n    <text dy=\"1.25em\" style=\"font-size: 0.8em; letter-spacing: 1px\">\\n        <textPath xlink:href=\"#arrow-03edde44e5c54dbbb480c69636322202-0-11\" class=\"displacy-label\" startOffset=\"50%\" side=\"left\" fill=\"currentColor\" text-anchor=\"middle\">nmod</textPath>\\n    </text>\\n    <path class=\"displacy-arrowhead\" d=\"M2135.0,441.5 L2143.0,429.5 2127.0,429.5\" fill=\"currentColor\"/>\\n</g>\\n\\n<g class=\"displacy-arrow\">\\n    <path class=\"displacy-arc\" id=\"arrow-03edde44e5c54dbbb480c69636322202-0-12\" stroke-width=\"2px\" d=\"M2345,439.5 C2345,264.5 2660.0,264.5 2660.0,439.5\" fill=\"none\" stroke=\"currentColor\"/>\\n    <text dy=\"1.25em\" style=\"font-size: 0.8em; letter-spacing: 1px\">\\n        <textPath xlink:href=\"#arrow-03edde44e5c54dbbb480c69636322202-0-12\" class=\"displacy-label\" startOffset=\"50%\" side=\"left\" fill=\"currentColor\" text-anchor=\"middle\">nsubj</textPath>\\n    </text>\\n    <path class=\"displacy-arrowhead\" d=\"M2345,441.5 L2337,429.5 2353,429.5\" fill=\"currentColor\"/>\\n</g>\\n\\n<g class=\"displacy-arrow\">\\n    <path class=\"displacy-arc\" id=\"arrow-03edde44e5c54dbbb480c69636322202-0-13\" stroke-width=\"2px\" d=\"M2345,439.5 C2345,352.0 2480.0,352.0 2480.0,439.5\" fill=\"none\" stroke=\"currentColor\"/>\\n    <text dy=\"1.25em\" style=\"font-size: 0.8em; letter-spacing: 1px\">\\n        <textPath xlink:href=\"#arrow-03edde44e5c54dbbb480c69636322202-0-13\" class=\"displacy-label\" startOffset=\"50%\" side=\"left\" fill=\"currentColor\" text-anchor=\"middle\">appos</textPath>\\n    </text>\\n    <path class=\"displacy-arrowhead\" d=\"M2480.0,441.5 L2488.0,429.5 2472.0,429.5\" fill=\"currentColor\"/>\\n</g>\\n\\n<g class=\"displacy-arrow\">\\n    <path class=\"displacy-arc\" id=\"arrow-03edde44e5c54dbbb480c69636322202-0-14\" stroke-width=\"2px\" d=\"M2870,439.5 C2870,352.0 3005.0,352.0 3005.0,439.5\" fill=\"none\" stroke=\"currentColor\"/>\\n    <text dy=\"1.25em\" style=\"font-size: 0.8em; letter-spacing: 1px\">\\n        <textPath xlink:href=\"#arrow-03edde44e5c54dbbb480c69636322202-0-14\" class=\"displacy-label\" startOffset=\"50%\" side=\"left\" fill=\"currentColor\" text-anchor=\"middle\">case</textPath>\\n    </text>\\n    <path class=\"displacy-arrowhead\" d=\"M2870,441.5 L2862,429.5 2878,429.5\" fill=\"currentColor\"/>\\n</g>\\n\\n<g class=\"displacy-arrow\">\\n    <path class=\"displacy-arc\" id=\"arrow-03edde44e5c54dbbb480c69636322202-0-15\" stroke-width=\"2px\" d=\"M2695,439.5 C2695,264.5 3010.0,264.5 3010.0,439.5\" fill=\"none\" stroke=\"currentColor\"/>\\n    <text dy=\"1.25em\" style=\"font-size: 0.8em; letter-spacing: 1px\">\\n        <textPath xlink:href=\"#arrow-03edde44e5c54dbbb480c69636322202-0-15\" class=\"displacy-label\" startOffset=\"50%\" side=\"left\" fill=\"currentColor\" text-anchor=\"middle\">obl</textPath>\\n    </text>\\n    <path class=\"displacy-arrowhead\" d=\"M3010.0,441.5 L3018.0,429.5 3002.0,429.5\" fill=\"currentColor\"/>\\n</g>\\n\\n<g class=\"displacy-arrow\">\\n    <path class=\"displacy-arc\" id=\"arrow-03edde44e5c54dbbb480c69636322202-0-16\" stroke-width=\"2px\" d=\"M3045,439.5 C3045,352.0 3180.0,352.0 3180.0,439.5\" fill=\"none\" stroke=\"currentColor\"/>\\n    <text dy=\"1.25em\" style=\"font-size: 0.8em; letter-spacing: 1px\">\\n        <textPath xlink:href=\"#arrow-03edde44e5c54dbbb480c69636322202-0-16\" class=\"displacy-label\" startOffset=\"50%\" side=\"left\" fill=\"currentColor\" text-anchor=\"middle\">flat:name</textPath>\\n    </text>\\n    <path class=\"displacy-arrowhead\" d=\"M3180.0,441.5 L3188.0,429.5 3172.0,429.5\" fill=\"currentColor\"/>\\n</g>\\n\\n<g class=\"displacy-arrow\">\\n    <path class=\"displacy-arc\" id=\"arrow-03edde44e5c54dbbb480c69636322202-0-17\" stroke-width=\"2px\" d=\"M3395,439.5 C3395,352.0 3530.0,352.0 3530.0,439.5\" fill=\"none\" stroke=\"currentColor\"/>\\n    <text dy=\"1.25em\" style=\"font-size: 0.8em; letter-spacing: 1px\">\\n        <textPath xlink:href=\"#arrow-03edde44e5c54dbbb480c69636322202-0-17\" class=\"displacy-label\" startOffset=\"50%\" side=\"left\" fill=\"currentColor\" text-anchor=\"middle\">case</textPath>\\n    </text>\\n    <path class=\"displacy-arrowhead\" d=\"M3395,441.5 L3387,429.5 3403,429.5\" fill=\"currentColor\"/>\\n</g>\\n\\n<g class=\"displacy-arrow\">\\n    <path class=\"displacy-arc\" id=\"arrow-03edde44e5c54dbbb480c69636322202-0-18\" stroke-width=\"2px\" d=\"M2695,439.5 C2695,89.5 3545.0,89.5 3545.0,439.5\" fill=\"none\" stroke=\"currentColor\"/>\\n    <text dy=\"1.25em\" style=\"font-size: 0.8em; letter-spacing: 1px\">\\n        <textPath xlink:href=\"#arrow-03edde44e5c54dbbb480c69636322202-0-18\" class=\"displacy-label\" startOffset=\"50%\" side=\"left\" fill=\"currentColor\" text-anchor=\"middle\">obl</textPath>\\n    </text>\\n    <path class=\"displacy-arrowhead\" d=\"M3545.0,441.5 L3553.0,429.5 3537.0,429.5\" fill=\"currentColor\"/>\\n</g>\\n\\n<g class=\"displacy-arrow\">\\n    <path class=\"displacy-arc\" id=\"arrow-03edde44e5c54dbbb480c69636322202-0-19\" stroke-width=\"2px\" d=\"M3570,439.5 C3570,352.0 3705.0,352.0 3705.0,439.5\" fill=\"none\" stroke=\"currentColor\"/>\\n    <text dy=\"1.25em\" style=\"font-size: 0.8em; letter-spacing: 1px\">\\n        <textPath xlink:href=\"#arrow-03edde44e5c54dbbb480c69636322202-0-19\" class=\"displacy-label\" startOffset=\"50%\" side=\"left\" fill=\"currentColor\" text-anchor=\"middle\">amod</textPath>\\n    </text>\\n    <path class=\"displacy-arrowhead\" d=\"M3705.0,441.5 L3713.0,429.5 3697.0,429.5\" fill=\"currentColor\"/>\\n</g>\\n\\n<g class=\"displacy-arrow\">\\n    <path class=\"displacy-arc\" id=\"arrow-03edde44e5c54dbbb480c69636322202-0-20\" stroke-width=\"2px\" d=\"M3920,439.5 C3920,352.0 4055.0,352.0 4055.0,439.5\" fill=\"none\" stroke=\"currentColor\"/>\\n    <text dy=\"1.25em\" style=\"font-size: 0.8em; letter-spacing: 1px\">\\n        <textPath xlink:href=\"#arrow-03edde44e5c54dbbb480c69636322202-0-20\" class=\"displacy-label\" startOffset=\"50%\" side=\"left\" fill=\"currentColor\" text-anchor=\"middle\">case</textPath>\\n    </text>\\n    <path class=\"displacy-arrowhead\" d=\"M3920,441.5 L3912,429.5 3928,429.5\" fill=\"currentColor\"/>\\n</g>\\n\\n<g class=\"displacy-arrow\">\\n    <path class=\"displacy-arc\" id=\"arrow-03edde44e5c54dbbb480c69636322202-0-21\" stroke-width=\"2px\" d=\"M4095,439.5 C4095,2.0 5300.0,2.0 5300.0,439.5\" fill=\"none\" stroke=\"currentColor\"/>\\n    <text dy=\"1.25em\" style=\"font-size: 0.8em; letter-spacing: 1px\">\\n        <textPath xlink:href=\"#arrow-03edde44e5c54dbbb480c69636322202-0-21\" class=\"displacy-label\" startOffset=\"50%\" side=\"left\" fill=\"currentColor\" text-anchor=\"middle\">obl</textPath>\\n    </text>\\n    <path class=\"displacy-arrowhead\" d=\"M4095,441.5 L4087,429.5 4103,429.5\" fill=\"currentColor\"/>\\n</g>\\n\\n<g class=\"displacy-arrow\">\\n    <path class=\"displacy-arc\" id=\"arrow-03edde44e5c54dbbb480c69636322202-0-22\" stroke-width=\"2px\" d=\"M4095,439.5 C4095,352.0 4230.0,352.0 4230.0,439.5\" fill=\"none\" stroke=\"currentColor\"/>\\n    <text dy=\"1.25em\" style=\"font-size: 0.8em; letter-spacing: 1px\">\\n        <textPath xlink:href=\"#arrow-03edde44e5c54dbbb480c69636322202-0-22\" class=\"displacy-label\" startOffset=\"50%\" side=\"left\" fill=\"currentColor\" text-anchor=\"middle\">amod</textPath>\\n    </text>\\n    <path class=\"displacy-arrowhead\" d=\"M4230.0,441.5 L4238.0,429.5 4222.0,429.5\" fill=\"currentColor\"/>\\n</g>\\n\\n<g class=\"displacy-arrow\">\\n    <path class=\"displacy-arc\" id=\"arrow-03edde44e5c54dbbb480c69636322202-0-23\" stroke-width=\"2px\" d=\"M4445,439.5 C4445,89.5 5295.0,89.5 5295.0,439.5\" fill=\"none\" stroke=\"currentColor\"/>\\n    <text dy=\"1.25em\" style=\"font-size: 0.8em; letter-spacing: 1px\">\\n        <textPath xlink:href=\"#arrow-03edde44e5c54dbbb480c69636322202-0-23\" class=\"displacy-label\" startOffset=\"50%\" side=\"left\" fill=\"currentColor\" text-anchor=\"middle\">nsubj</textPath>\\n    </text>\\n    <path class=\"displacy-arrowhead\" d=\"M4445,441.5 L4437,429.5 4453,429.5\" fill=\"currentColor\"/>\\n</g>\\n\\n<g class=\"displacy-arrow\">\\n    <path class=\"displacy-arc\" id=\"arrow-03edde44e5c54dbbb480c69636322202-0-24\" stroke-width=\"2px\" d=\"M4445,439.5 C4445,352.0 4580.0,352.0 4580.0,439.5\" fill=\"none\" stroke=\"currentColor\"/>\\n    <text dy=\"1.25em\" style=\"font-size: 0.8em; letter-spacing: 1px\">\\n        <textPath xlink:href=\"#arrow-03edde44e5c54dbbb480c69636322202-0-24\" class=\"displacy-label\" startOffset=\"50%\" side=\"left\" fill=\"currentColor\" text-anchor=\"middle\">flat:name</textPath>\\n    </text>\\n    <path class=\"displacy-arrowhead\" d=\"M4580.0,441.5 L4588.0,429.5 4572.0,429.5\" fill=\"currentColor\"/>\\n</g>\\n\\n<g class=\"displacy-arrow\">\\n    <path class=\"displacy-arc\" id=\"arrow-03edde44e5c54dbbb480c69636322202-0-25\" stroke-width=\"2px\" d=\"M4445,439.5 C4445,264.5 4760.0,264.5 4760.0,439.5\" fill=\"none\" stroke=\"currentColor\"/>\\n    <text dy=\"1.25em\" style=\"font-size: 0.8em; letter-spacing: 1px\">\\n        <textPath xlink:href=\"#arrow-03edde44e5c54dbbb480c69636322202-0-25\" class=\"displacy-label\" startOffset=\"50%\" side=\"left\" fill=\"currentColor\" text-anchor=\"middle\">appos</textPath>\\n    </text>\\n    <path class=\"displacy-arrowhead\" d=\"M4760.0,441.5 L4768.0,429.5 4752.0,429.5\" fill=\"currentColor\"/>\\n</g>\\n\\n<g class=\"displacy-arrow\">\\n    <path class=\"displacy-arc\" id=\"arrow-03edde44e5c54dbbb480c69636322202-0-26\" stroke-width=\"2px\" d=\"M4970,439.5 C4970,352.0 5105.0,352.0 5105.0,439.5\" fill=\"none\" stroke=\"currentColor\"/>\\n    <text dy=\"1.25em\" style=\"font-size: 0.8em; letter-spacing: 1px\">\\n        <textPath xlink:href=\"#arrow-03edde44e5c54dbbb480c69636322202-0-26\" class=\"displacy-label\" startOffset=\"50%\" side=\"left\" fill=\"currentColor\" text-anchor=\"middle\">case</textPath>\\n    </text>\\n    <path class=\"displacy-arrowhead\" d=\"M4970,441.5 L4962,429.5 4978,429.5\" fill=\"currentColor\"/>\\n</g>\\n\\n<g class=\"displacy-arrow\">\\n    <path class=\"displacy-arc\" id=\"arrow-03edde44e5c54dbbb480c69636322202-0-27\" stroke-width=\"2px\" d=\"M4795,439.5 C4795,264.5 5110.0,264.5 5110.0,439.5\" fill=\"none\" stroke=\"currentColor\"/>\\n    <text dy=\"1.25em\" style=\"font-size: 0.8em; letter-spacing: 1px\">\\n        <textPath xlink:href=\"#arrow-03edde44e5c54dbbb480c69636322202-0-27\" class=\"displacy-label\" startOffset=\"50%\" side=\"left\" fill=\"currentColor\" text-anchor=\"middle\">nmod</textPath>\\n    </text>\\n    <path class=\"displacy-arrowhead\" d=\"M5110.0,441.5 L5118.0,429.5 5102.0,429.5\" fill=\"currentColor\"/>\\n</g>\\n\\n<g class=\"displacy-arrow\">\\n    <path class=\"displacy-arc\" id=\"arrow-03edde44e5c54dbbb480c69636322202-0-28\" stroke-width=\"2px\" d=\"M5495,439.5 C5495,352.0 5630.0,352.0 5630.0,439.5\" fill=\"none\" stroke=\"currentColor\"/>\\n    <text dy=\"1.25em\" style=\"font-size: 0.8em; letter-spacing: 1px\">\\n        <textPath xlink:href=\"#arrow-03edde44e5c54dbbb480c69636322202-0-28\" class=\"displacy-label\" startOffset=\"50%\" side=\"left\" fill=\"currentColor\" text-anchor=\"middle\">case</textPath>\\n    </text>\\n    <path class=\"displacy-arrowhead\" d=\"M5495,441.5 L5487,429.5 5503,429.5\" fill=\"currentColor\"/>\\n</g>\\n\\n<g class=\"displacy-arrow\">\\n    <path class=\"displacy-arc\" id=\"arrow-03edde44e5c54dbbb480c69636322202-0-29\" stroke-width=\"2px\" d=\"M5320,439.5 C5320,264.5 5635.0,264.5 5635.0,439.5\" fill=\"none\" stroke=\"currentColor\"/>\\n    <text dy=\"1.25em\" style=\"font-size: 0.8em; letter-spacing: 1px\">\\n        <textPath xlink:href=\"#arrow-03edde44e5c54dbbb480c69636322202-0-29\" class=\"displacy-label\" startOffset=\"50%\" side=\"left\" fill=\"currentColor\" text-anchor=\"middle\">obl</textPath>\\n    </text>\\n    <path class=\"displacy-arrowhead\" d=\"M5635.0,441.5 L5643.0,429.5 5627.0,429.5\" fill=\"currentColor\"/>\\n</g>\\n\\n<g class=\"displacy-arrow\">\\n    <path class=\"displacy-arc\" id=\"arrow-03edde44e5c54dbbb480c69636322202-0-30\" stroke-width=\"2px\" d=\"M5670,439.5 C5670,352.0 5805.0,352.0 5805.0,439.5\" fill=\"none\" stroke=\"currentColor\"/>\\n    <text dy=\"1.25em\" style=\"font-size: 0.8em; letter-spacing: 1px\">\\n        <textPath xlink:href=\"#arrow-03edde44e5c54dbbb480c69636322202-0-30\" class=\"displacy-label\" startOffset=\"50%\" side=\"left\" fill=\"currentColor\" text-anchor=\"middle\">amod</textPath>\\n    </text>\\n    <path class=\"displacy-arrowhead\" d=\"M5805.0,441.5 L5813.0,429.5 5797.0,429.5\" fill=\"currentColor\"/>\\n</g>\\n\\n<g class=\"displacy-arrow\">\\n    <path class=\"displacy-arc\" id=\"arrow-03edde44e5c54dbbb480c69636322202-0-31\" stroke-width=\"2px\" d=\"M6020,439.5 C6020,352.0 6155.0,352.0 6155.0,439.5\" fill=\"none\" stroke=\"currentColor\"/>\\n    <text dy=\"1.25em\" style=\"font-size: 0.8em; letter-spacing: 1px\">\\n        <textPath xlink:href=\"#arrow-03edde44e5c54dbbb480c69636322202-0-31\" class=\"displacy-label\" startOffset=\"50%\" side=\"left\" fill=\"currentColor\" text-anchor=\"middle\">case</textPath>\\n    </text>\\n    <path class=\"displacy-arrowhead\" d=\"M6020,441.5 L6012,429.5 6028,429.5\" fill=\"currentColor\"/>\\n</g>\\n\\n<g class=\"displacy-arrow\">\\n    <path class=\"displacy-arc\" id=\"arrow-03edde44e5c54dbbb480c69636322202-0-32\" stroke-width=\"2px\" d=\"M5670,439.5 C5670,177.0 6165.0,177.0 6165.0,439.5\" fill=\"none\" stroke=\"currentColor\"/>\\n    <text dy=\"1.25em\" style=\"font-size: 0.8em; letter-spacing: 1px\">\\n        <textPath xlink:href=\"#arrow-03edde44e5c54dbbb480c69636322202-0-32\" class=\"displacy-label\" startOffset=\"50%\" side=\"left\" fill=\"currentColor\" text-anchor=\"middle\">nmod</textPath>\\n    </text>\\n    <path class=\"displacy-arrowhead\" d=\"M6165.0,441.5 L6173.0,429.5 6157.0,429.5\" fill=\"currentColor\"/>\\n</g>\\n\\n<g class=\"displacy-arrow\">\\n    <path class=\"displacy-arc\" id=\"arrow-03edde44e5c54dbbb480c69636322202-0-33\" stroke-width=\"2px\" d=\"M6370,439.5 C6370,352.0 6505.0,352.0 6505.0,439.5\" fill=\"none\" stroke=\"currentColor\"/>\\n    <text dy=\"1.25em\" style=\"font-size: 0.8em; letter-spacing: 1px\">\\n        <textPath xlink:href=\"#arrow-03edde44e5c54dbbb480c69636322202-0-33\" class=\"displacy-label\" startOffset=\"50%\" side=\"left\" fill=\"currentColor\" text-anchor=\"middle\">case</textPath>\\n    </text>\\n    <path class=\"displacy-arrowhead\" d=\"M6370,441.5 L6362,429.5 6378,429.5\" fill=\"currentColor\"/>\\n</g>\\n\\n<g class=\"displacy-arrow\">\\n    <path class=\"displacy-arc\" id=\"arrow-03edde44e5c54dbbb480c69636322202-0-34\" stroke-width=\"2px\" d=\"M5320,439.5 C5320,2.0 6525.0,2.0 6525.0,439.5\" fill=\"none\" stroke=\"currentColor\"/>\\n    <text dy=\"1.25em\" style=\"font-size: 0.8em; letter-spacing: 1px\">\\n        <textPath xlink:href=\"#arrow-03edde44e5c54dbbb480c69636322202-0-34\" class=\"displacy-label\" startOffset=\"50%\" side=\"left\" fill=\"currentColor\" text-anchor=\"middle\">obl</textPath>\\n    </text>\\n    <path class=\"displacy-arrowhead\" d=\"M6525.0,441.5 L6533.0,429.5 6517.0,429.5\" fill=\"currentColor\"/>\\n</g>\\n\\n<g class=\"displacy-arrow\">\\n    <path class=\"displacy-arc\" id=\"arrow-03edde44e5c54dbbb480c69636322202-0-35\" stroke-width=\"2px\" d=\"M6545,439.5 C6545,352.0 6680.0,352.0 6680.0,439.5\" fill=\"none\" stroke=\"currentColor\"/>\\n    <text dy=\"1.25em\" style=\"font-size: 0.8em; letter-spacing: 1px\">\\n        <textPath xlink:href=\"#arrow-03edde44e5c54dbbb480c69636322202-0-35\" class=\"displacy-label\" startOffset=\"50%\" side=\"left\" fill=\"currentColor\" text-anchor=\"middle\">flat:name</textPath>\\n    </text>\\n    <path class=\"displacy-arrowhead\" d=\"M6680.0,441.5 L6688.0,429.5 6672.0,429.5\" fill=\"currentColor\"/>\\n</g>\\n</svg>'"
            ]
          },
          "metadata": {
            "tags": []
          },
          "execution_count": 32
        }
      ]
    },
    {
      "cell_type": "markdown",
      "metadata": {
        "id": "Ob6kKNaBpNoU"
      },
      "source": [
        "Exemplo:"
      ]
    },
    {
      "cell_type": "markdown",
      "metadata": {
        "id": "dK1LdVL4sC5V"
      },
      "source": [
        "![sintatica_exemplo.png](data:image/png;base64,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)"
      ]
    },
    {
      "cell_type": "markdown",
      "metadata": {
        "id": "HrlDXUHpsGdt"
      },
      "source": [
        "**Visualizadores: [DisplaCy](https://explosion.ai/demos/displacy-ent) e [ExplosionAI](https://explosion.ai/demos/displacy).**"
      ]
    },
    {
      "cell_type": "markdown",
      "metadata": {
        "id": "067W4c3Fu_EP"
      },
      "source": [
        "### **Similaridade semântica e sintática entre as palavras**"
      ]
    },
    {
      "cell_type": "markdown",
      "metadata": {
        "id": "xrbkp2DPv9r8"
      },
      "source": [
        "Exemplo:"
      ]
    },
    {
      "cell_type": "code",
      "metadata": {
        "id": "3k0-hRilvJu4"
      },
      "source": [
        "palavras = \"conversar falar correr\"\n",
        "\n",
        "doc_novo = nlp(palavras)\n",
        "\n",
        "similar = [token for token in doc_novo]"
      ],
      "execution_count": 33,
      "outputs": []
    },
    {
      "cell_type": "markdown",
      "metadata": {
        "id": "iwjZbp2rwnX7"
      },
      "source": [
        "Similaridade entre item 0 (conversar) e item 1 (falar):"
      ]
    },
    {
      "cell_type": "code",
      "metadata": {
        "id": "KVFshuITvdLR",
        "colab": {
          "base_uri": "https://localhost:8080/"
        },
        "outputId": "266fab0e-e20b-425b-f725-d45996c998fd"
      },
      "source": [
        "print(similar[0].similarity(similar[1]))"
      ],
      "execution_count": 34,
      "outputs": [
        {
          "output_type": "stream",
          "text": [
            "0.73501545\n"
          ],
          "name": "stdout"
        }
      ]
    },
    {
      "cell_type": "markdown",
      "metadata": {
        "id": "fdtzQBedwu-2"
      },
      "source": [
        "Similaridade entre item 0 (conversar) e item 2 (correr):"
      ]
    },
    {
      "cell_type": "code",
      "metadata": {
        "id": "4ALDEm-Ywmb7",
        "colab": {
          "base_uri": "https://localhost:8080/"
        },
        "outputId": "b5bab2dc-780d-432e-b1d4-4c631df458cc"
      },
      "source": [
        "print(similar[0].similarity(similar[2]))"
      ],
      "execution_count": 35,
      "outputs": [
        {
          "output_type": "stream",
          "text": [
            "0.44497716\n"
          ],
          "name": "stdout"
        }
      ]
    },
    {
      "cell_type": "markdown",
      "metadata": {
        "id": "32CdO8cb5Abo"
      },
      "source": [
        "Outro jeito de fazer:"
      ]
    },
    {
      "cell_type": "markdown",
      "metadata": {
        "id": "oEWcmK7B5PpD"
      },
      "source": [
        "1. verificar se existem as palavras dentro do vocabulário:"
      ]
    },
    {
      "cell_type": "code",
      "metadata": {
        "id": "wX6cRhow5CNg"
      },
      "source": [
        "import spacy\n",
        "\n",
        "nlp = spacy.load('pt_core_news_lg')"
      ],
      "execution_count": 38,
      "outputs": []
    },
    {
      "cell_type": "code",
      "metadata": {
        "id": "WfuURV_V5uB8"
      },
      "source": [
        "homem = nlp.vocab['homem']\n",
        "mulher = nlp.vocab['mulher']"
      ],
      "execution_count": 39,
      "outputs": []
    },
    {
      "cell_type": "markdown",
      "metadata": {
        "id": "O2WQmeTF5_E7"
      },
      "source": [
        "2. imprimir os vetores:"
      ]
    },
    {
      "cell_type": "code",
      "metadata": {
        "colab": {
          "base_uri": "https://localhost:8080/"
        },
        "id": "p0O37tOl5t9q",
        "outputId": "9bc2feef-e12d-40cc-c66e-9bb8cd1fc58f"
      },
      "source": [
        "print(homem.vector)"
      ],
      "execution_count": 40,
      "outputs": [
        {
          "output_type": "stream",
          "text": [
            "[ 1.5628    0.35001   0.95894   0.87086   0.90007  -0.8252   -0.10806\n",
            "  2.7155   -2.7379    1.8683   -2.1603    1.2901    2.5367   -2.4035\n",
            " -1.0417    2.1815   -0.26488  -0.22896   0.12723   0.017229 -3.0017\n",
            " -1.9135   -0.1793   -0.34284  -1.2609    3.3128   -0.42028   3.6629\n",
            "  4.0866    0.33137   0.11477   1.9094   -0.99401  -0.4619    1.7573\n",
            "  1.3596   -0.29963   0.63758   1.3071    0.87926  -1.1583   -3.0824\n",
            "  2.1434    1.0237   -1.7759    0.9988    0.42653  -0.32242   3.5361\n",
            "  0.89827  -0.25279   0.84745   0.39549   0.47672  -1.6683   -0.8308\n",
            "  1.2676   -1.5293    3.5994    1.0038    0.64212   3.4748    4.358\n",
            "  4.0872    0.057697 -1.1605    0.60348   2.3968    2.5005   -2.3615\n",
            "  2.1844   -2.9548    0.77437  -0.16696   0.45305  -2.2153    2.5138\n",
            "  2.2717   -3.2666    1.0141    1.6822   -3.7702   -0.19793  -1.63\n",
            " -2.3892    4.0511    1.8723    0.81808   1.7147    2.3272   -1.3712\n",
            " -3.565     3.2667   -1.3828   -0.14155   0.92273   5.0704   -0.2254\n",
            " -2.4137    1.8533    1.1647    0.45701   2.4448    0.47626   3.6696\n",
            "  1.2789    1.6789    1.7444    1.7419   -0.73651  -0.16444   0.89427\n",
            " -1.0848    0.15299  -3.5548    0.50198  -0.94418  -0.11218   0.010212\n",
            " -0.93233  -1.0545   -0.20398   3.1126   -0.91339   0.66764   2.2867\n",
            " -2.3647    2.1633    1.1741   -0.72078  -3.5232    0.33151  -2.4712\n",
            " -0.040531  2.5932   -0.33479  -0.48014   2.9992    2.9669   -0.20775\n",
            " -3.5661   -2.0584   -1.8224   -3.0935    0.99852  -1.7713    0.16717\n",
            "  0.69618  -1.6441   -4.688     1.0201    0.55134  -1.0473   -1.468\n",
            "  1.4351   -0.20918   1.5617   -2.602    -1.8425    0.46443   3.1062\n",
            " -4.8094   -0.62885  -1.2379   -1.7587   -2.8952    1.0499   -1.0409\n",
            " -0.54133   0.29622  -0.30468   1.2619    0.3181    1.9054    1.1533\n",
            " -0.24807  -2.0311   -3.6526   -0.32575   0.70485  -1.843    -0.42508\n",
            " -1.2923   -0.033012 -0.3417    2.3037    1.4228   -3.3348   -1.4431\n",
            "  1.6164   -1.7567    0.95646   2.0495   -1.4702   -1.735     0.62911\n",
            " -2.2522   -0.10053   0.037893  0.25991   1.4167   -2.843    -0.80908\n",
            "  0.62635   0.084594 -1.0228    0.46424  -0.60633   4.234     0.23604\n",
            "  0.80825   4.6256    4.9819   -0.064399 -4.4668    3.2845    0.12483\n",
            "  0.80837   0.42506   1.0862    1.2028    0.29356  -0.21263  -2.6479\n",
            "  1.8119   -2.2481   -2.2902   -0.25555   1.993    -1.0819    0.26142\n",
            "  0.91794  -3.2565   -2.2376    3.986    -0.83156  -0.97667  -4.3667\n",
            "  1.1678   -0.61521   2.2471    2.7126    2.9621   -1.8048    1.4606\n",
            " -2.2811   -1.2538    0.1062    2.3381    0.68613   2.5064    1.3004\n",
            "  2.6233    0.28      2.9076   -1.1227    1.7755    2.2126    1.7452\n",
            "  2.6972   -3.8565   -1.4783   -1.8185    0.19368  -2.639    -0.30338\n",
            " -0.95781  -0.30003   4.0323    0.35846   0.98172   1.8996   -2.7121\n",
            "  0.74616  -0.48255  -0.060185  0.058977  0.16425  -3.2707    3.1463\n",
            "  0.14554  -0.044559  3.3453   -0.67232   1.306     2.078    -6.8895\n",
            " -0.96682  -2.0016    2.104     2.3218    0.17019  -1.4586    3.6306\n",
            "  2.4412   -2.5519   -1.6167   -2.9521    1.1739   -2.8538  ]\n"
          ],
          "name": "stdout"
        }
      ]
    },
    {
      "cell_type": "code",
      "metadata": {
        "colab": {
          "base_uri": "https://localhost:8080/"
        },
        "id": "fyxuldDk5t5i",
        "outputId": "61e3c4de-7094-416c-9009-7cabc0ca79c1"
      },
      "source": [
        "print(mulher.vector)"
      ],
      "execution_count": 41,
      "outputs": [
        {
          "output_type": "stream",
          "text": [
            "[ 0.80819  -2.2452    0.1131    2.5835    0.05711   0.48347  -0.07803\n",
            "  1.4165    0.94434   1.644     1.3424    0.29624   2.4274   -2.6081\n",
            "  1.5715   -0.24069   0.72092   0.57873   1.797     0.33063  -2.2948\n",
            " -0.079408 -0.59775   1.1585   -0.67636   2.8536   -2.3383    2.0324\n",
            "  3.5659    1.9935    0.11546   2.3282    0.72223  -0.44262  -0.85315\n",
            "  3.2992   -0.54552  -0.091286  0.74782   0.84112  -2.2344   -2.1892\n",
            "  1.329     0.83005  -1.8265    0.45638   0.94143  -1.3718    2.4856\n",
            "  1.634     1.335     0.63346  -1.8485   -0.022359  0.025702 -1.2586\n",
            "  1.7547   -0.89136   1.8941    0.62589   0.85134  -0.018323  3.0729\n",
            "  1.0345   -2.2123   -1.0948   -0.41639   1.5522    2.47     -3.4984\n",
            " -0.70304  -4.4897   -1.0192   -1.5682    3.2154   -1.4879    2.1225\n",
            "  1.4327   -2.3172    1.2108   -0.99788  -1.8855    0.021806 -2.4223\n",
            " -1.3973    2.9436    1.2364    2.2046    2.6748    1.1412   -1.719\n",
            " -1.3036    0.57463  -1.4438   -1.0915   -0.33134   3.7377    0.10653\n",
            " -1.8965    2.3545    1.6079   -1.0161    1.0748    1.0316    1.962\n",
            "  1.2377    0.85716   1.0933   -0.71404  -0.93184   0.089308  1.1093\n",
            "  1.5222    1.9933   -1.6125    0.59109  -1.5421   -0.68691  -0.59462\n",
            "  0.45232  -0.30911  -1.1045    4.3459    0.46382   1.9744    0.69438\n",
            " -0.1514    1.409     0.8139    2.5574   -2.4309    1.2072   -2.3923\n",
            "  1.045     2.2566   -1.1964   -1.6558    4.2262    1.7261    0.20707\n",
            " -1.2545    0.45587  -2.0367   -1.2118    3.1033   -0.86523   2.613\n",
            "  0.30672  -1.9781   -1.1128   -1.5042    0.36615  -0.27855  -0.032739\n",
            "  0.70551   0.12524   0.26469  -3.674    -2.4781    1.4943    2.3366\n",
            " -3.054    -1.4793   -1.2808    0.11338  -1.1334    0.56209   1.6423\n",
            "  2.8651   -0.82807  -0.18487   0.9926    2.1869    4.4019    1.9937\n",
            "  0.86198  -0.82157  -0.50349  -0.025451  1.9806   -1.23      1.2548\n",
            "  1.0921   -0.74339   1.0607   -1.3986    0.33349  -1.1184   -0.95049\n",
            "  2.5533   -3.396     1.4143    0.94644   1.5827   -1.0783   -0.90512\n",
            "  0.90413   0.85045  -1.1914    2.9074    1.2024   -2.7148   -1.3252\n",
            "  0.24617  -0.96072  -1.4029   -0.5695    0.2904    1.5527    0.28772\n",
            "  2.3277    3.916     0.69231  -1.0919   -2.4752    3.1833    0.43386\n",
            "  0.45832   0.45571   0.29595  -0.35948   4.2142    0.1857   -2.4078\n",
            " -0.76382  -3.3632    1.8237   -0.65546   4.5683   -2.5087    2.8248\n",
            "  1.2703    1.0734   -2.5534    3.7754   -0.72949  -0.071964 -1.6539\n",
            "  0.37528  -1.8889   -0.44538   0.74896  -0.23693  -1.3682    1.3\n",
            " -2.5757   -2.93      1.3518    1.5596    0.0408    0.32994   3.3221\n",
            "  1.7807   -0.78093   1.7886    1.1787    0.12149   3.6459   -0.11332\n",
            "  1.5055   -1.6507   -0.65065   0.18917   2.1306   -3.1131   -1.1942\n",
            "  0.66881  -0.62459   3.8574    1.4715    0.091849  2.4442   -1.743\n",
            "  3.3105    1.7943   -1.5598   -0.094485  1.5791   -2.0957    3.075\n",
            "  0.47207   0.82864   2.6235   -0.34817   0.29019   1.5049   -1.2283\n",
            " -1.0238   -1.7868   -0.49841   0.53703   1.7598   -0.27199   1.1034\n",
            "  3.886    -1.9282   -0.67565   0.60512  -0.14946  -3.6745  ]\n"
          ],
          "name": "stdout"
        }
      ]
    },
    {
      "cell_type": "markdown",
      "metadata": {
        "id": "kJris__Y57Za"
      },
      "source": [
        "3. verificar o tamanho do vetor:"
      ]
    },
    {
      "cell_type": "code",
      "metadata": {
        "colab": {
          "base_uri": "https://localhost:8080/"
        },
        "id": "9kKxIpYU5t07",
        "outputId": "9315127d-ce24-4400-b596-5de9ecac1cc0"
      },
      "source": [
        "print(len(homem.vector))"
      ],
      "execution_count": 42,
      "outputs": [
        {
          "output_type": "stream",
          "text": [
            "300\n"
          ],
          "name": "stdout"
        }
      ]
    },
    {
      "cell_type": "code",
      "metadata": {
        "colab": {
          "base_uri": "https://localhost:8080/"
        },
        "id": "ZZ74eTU45tvA",
        "outputId": "ed3655ad-e176-4d45-ae84-0f76752f8f24"
      },
      "source": [
        "print(len(mulher.vector))"
      ],
      "execution_count": 43,
      "outputs": [
        {
          "output_type": "stream",
          "text": [
            "300\n"
          ],
          "name": "stdout"
        }
      ]
    },
    {
      "cell_type": "markdown",
      "metadata": {
        "id": "9XNOdqCU6E3W"
      },
      "source": [
        "4. verificar a similaridade:"
      ]
    },
    {
      "cell_type": "code",
      "metadata": {
        "colab": {
          "base_uri": "https://localhost:8080/"
        },
        "id": "1nC48SR356qE",
        "outputId": "553ec884-bf3d-472c-9f74-fe0704c5c9f6"
      },
      "source": [
        "homem.similarity(mulher)"
      ],
      "execution_count": 44,
      "outputs": [
        {
          "output_type": "execute_result",
          "data": {
            "text/plain": [
              "0.6595782"
            ]
          },
          "metadata": {
            "tags": []
          },
          "execution_count": 44
        }
      ]
    },
    {
      "cell_type": "code",
      "metadata": {
        "colab": {
          "base_uri": "https://localhost:8080/"
        },
        "id": "r6-uJnr056RS",
        "outputId": "e5041c98-7524-4a8c-c2aa-61267d56a4bc"
      },
      "source": [
        "mulher.similarity(homem)"
      ],
      "execution_count": 45,
      "outputs": [
        {
          "output_type": "execute_result",
          "data": {
            "text/plain": [
              "0.6595782"
            ]
          },
          "metadata": {
            "tags": []
          },
          "execution_count": 45
        }
      ]
    },
    {
      "cell_type": "markdown",
      "metadata": {
        "id": "napK5UDN6yEu"
      },
      "source": [
        "*A aula ocorreu nos dias 19 de maio de 2021, das 14h às 18h.*"
      ]
    },
    {
      "cell_type": "code",
      "metadata": {
        "id": "GR45POvY6zmq"
      },
      "source": [
        ""
      ],
      "execution_count": null,
      "outputs": []
    }
  ]
}