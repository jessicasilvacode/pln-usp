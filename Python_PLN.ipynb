{
  "nbformat": 4,
  "nbformat_minor": 0,
  "metadata": {
    "colab": {
      "name": "Python_PLN.ipynb",
      "provenance": [],
      "authorship_tag": "ABX9TyOHE7+lE9WH+bE00Cj14L03"
    },
    "kernelspec": {
      "name": "python3",
      "display_name": "Python 3"
    },
    "language_info": {
      "name": "python"
    }
  },
  "cells": [
    {
      "cell_type": "markdown",
      "metadata": {
        "id": "j9_Ct9m-n6C1"
      },
      "source": [
        "# **Curso de extensão: Python para Processamento de Linguagem Natural (PLN) ➜ USP**\n",
        "\n"
      ]
    },
    {
      "cell_type": "markdown",
      "metadata": {
        "id": "W6oLlwVWoH-c"
      },
      "source": [
        "Leitura introdutória: [Speech and Language Processing](https://www.researchgate.net/publication/200111340_Speech_and_Language_Processing_An_Introduction_to_Natural_Language_Processing_Computational_Linguistics_and_Speech_Recognition)\n"
      ]
    },
    {
      "cell_type": "markdown",
      "metadata": {
        "id": "_vqni62Qt-Qu"
      },
      "source": [
        "### Introdução"
      ]
    },
    {
      "cell_type": "markdown",
      "metadata": {
        "id": "7CfXxJetqBHk"
      },
      "source": [
        "Em uma linguagem informal, podemos dizer que o processamento de linguagem natural seria como \"instruir um computador a ler e a escrever\", e isso inclui ser capaz de interpretar textos, traduzir automaticamente, sugerir possíveis sinônimos, revisar ortografia e gramática, buscar respostas para perguntas, sumarizar, auxiliar à escrita, o aprendizado de línguas, e as atividades humanas em geral. É a área de interseção entre a computação e a linguística.\n"
      ]
    },
    {
      "cell_type": "markdown",
      "metadata": {
        "id": "jf80vm3ssfle"
      },
      "source": [
        "A linguagem natural tenta sempre se aproximar da linguagem humana, em oposição às linguagens artificais (matemática, lógica, programação). Trabalha-se com a língua, ou seja, com o código de comunicação, seja português, inglês, LIBRAS, ou qualquer outra língua, com suas regras específicas. **Não** trabalha-se com linguagem, comunicação e suas manifestações, fala, gestos, música, dança, sorriso; envolve o aparato físico e mental/cognitivo."
      ]
    },
    {
      "cell_type": "markdown",
      "metadata": {
        "id": "7DviNFB9t2Cx"
      },
      "source": [
        "### Níveis de conhecimento da linguagem"
      ]
    },
    {
      "cell_type": "markdown",
      "metadata": {
        "id": "vjYad2JduHrw"
      },
      "source": [
        "- Morfologia ➜ trabalha a construção de palavras e seus componentes de formação;\n",
        "- Sintaxe ➜ classes gramaticais, morfossintaxe, e formação e estruturação de sentenças;\n",
        "- Semântica ➜ significado das palavras e expressões em conjunto;\n",
        "- Pragmática/Discurso ➜ correferência e interpretação de texto, contexto e aspectos culturais;\n"
      ]
    },
    {
      "cell_type": "markdown",
      "metadata": {
        "id": "jLvhpd_7uk-i"
      },
      "source": [
        "Quando consideramos o uso da língua pelo computador, os níveis de conhecimento precisam ser representados - ou seja, **formalizados** - e manipulados automaticamente.\n"
      ]
    },
    {
      "cell_type": "markdown",
      "metadata": {
        "id": "JWseLM9Pj_kB"
      },
      "source": [
        "⚠️ Humanos lidam naturalmente com ambiguidade, irregularidade, sarcasmo, variedade linguística e aspectos culturais; as máquinas ainda não! "
      ]
    },
    {
      "cell_type": "markdown",
      "metadata": {
        "id": "2r4p4umolkt4"
      },
      "source": [
        "O trabalho de  Processamento de Linguagem Natural é dividido em etapas e isso ajuda a organizar o trabalho para que os elementos sejam colocados em suas devidas caixas. **Fase linguística:** teorias e dados linguísticos; **Fase representacional:** formalismos e esquemas de representação; e **Fase Implementacional:** métodos e modelos computacionais; utilizando recursos, ferramentas e aplicações em suas respectivas fases."
      ]
    },
    {
      "cell_type": "markdown",
      "metadata": {
        "id": "IlE1Z1F2vY7b"
      },
      "source": [
        "### Uso de Python no Processamento de Linguagem Natural"
      ]
    },
    {
      "cell_type": "markdown",
      "metadata": {
        "id": "l7SqoWUHnmHV"
      },
      "source": [
        "*o que usaremos: listas e tuplas; dicionários; arquivos; strings; frameworks como NLTK e spaCy* -> Aula 2 -> 12 maio 2021"
      ]
    },
    {
      "cell_type": "code",
      "metadata": {
        "id": "WOkx7f35vy0T",
        "colab": {
          "base_uri": "https://localhost:8080/"
        },
        "outputId": "3dcd2f9f-ce81-4857-a3a3-f67052a4d340"
      },
      "source": [
        "#teste\n",
        "print('Oi')"
      ],
      "execution_count": 1,
      "outputs": [
        {
          "output_type": "stream",
          "text": [
            "Oi\n"
          ],
          "name": "stdout"
        }
      ]
    },
    {
      "cell_type": "code",
      "metadata": {
        "id": "CFnPHoM_uGgE"
      },
      "source": [
        ""
      ],
      "execution_count": null,
      "outputs": []
    },
    {
      "cell_type": "code",
      "metadata": {
        "id": "KO7lRVKwn7bO"
      },
      "source": [
        ""
      ],
      "execution_count": null,
      "outputs": []
    }
  ]
}