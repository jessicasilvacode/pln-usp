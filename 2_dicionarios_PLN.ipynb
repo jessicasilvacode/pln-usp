{
  "nbformat": 4,
  "nbformat_minor": 0,
  "metadata": {
    "colab": {
      "name": "2_dicionarios_PLN.ipynb",
      "provenance": [],
      "mount_file_id": "1byuhhjxb16jcVq_eYiKHlXoWwF3G8ok9",
      "authorship_tag": "ABX9TyOvyKNAd7Vgn5dluY00vxh0"
    },
    "kernelspec": {
      "name": "python3",
      "display_name": "Python 3"
    },
    "language_info": {
      "name": "python"
    }
  },
  "cells": [
    {
      "cell_type": "markdown",
      "metadata": {
        "id": "4OZdxPyk2lfV"
      },
      "source": [
        "## **Aula ▷ Dicionários e Strings → Python**"
      ]
    },
    {
      "cell_type": "markdown",
      "metadata": {
        "id": "aUxVrMAv2r1b"
      },
      "source": [
        "Estruturas de dados que permitem armazenar e recuperar informações por **pares chave-valor**. É uma lista que podemos acessar seus elementos através de uma chave. Podem ser representados por qualquer tipo de dado e qualquer estrutura."
      ]
    },
    {
      "cell_type": "markdown",
      "metadata": {
        "id": "cdJwQbo76jD4"
      },
      "source": [
        "### **Dicionários:**"
      ]
    },
    {
      "cell_type": "code",
      "metadata": {
        "colab": {
          "base_uri": "https://localhost:8080/"
        },
        "id": "vwSQL9I32JXM",
        "outputId": "30a2dfaf-9238-45aa-9351-19f9782bd15d"
      },
      "source": [
        "dic = {}\n",
        "type(dic)"
      ],
      "execution_count": 1,
      "outputs": [
        {
          "output_type": "execute_result",
          "data": {
            "text/plain": [
              "dict"
            ]
          },
          "metadata": {
            "tags": []
          },
          "execution_count": 1
        }
      ]
    },
    {
      "cell_type": "code",
      "metadata": {
        "colab": {
          "base_uri": "https://localhost:8080/"
        },
        "id": "4uDFM4OI3TU5",
        "outputId": "276483e7-e2d5-4d95-cdb1-e582aecbe6d3"
      },
      "source": [
        "dic['elemento1'] = 10\n",
        "dic['elemento2'] = 20\n",
        "dic['elemento3'] = 'aula'\n",
        "dic[10] = 'numero'\n",
        "dic[1.3] = 'ponto flutuante'\n",
        "dic[True] = 'booleano'\n",
        "\n",
        "print(dic)"
      ],
      "execution_count": 2,
      "outputs": [
        {
          "output_type": "stream",
          "text": [
            "{'elemento1': 10, 'elemento2': 20, 'elemento3': 'aula', 10: 'numero', 1.3: 'ponto flutuante', True: 'booleano'}\n"
          ],
          "name": "stdout"
        }
      ]
    },
    {
      "cell_type": "markdown",
      "metadata": {
        "id": "NAWaBrf-48CI"
      },
      "source": [
        "Com os três métodos exemplificadas abaixo, podemos acessar, extrair e imprimir informações e os valores desses dicionários. "
      ]
    },
    {
      "cell_type": "code",
      "metadata": {
        "colab": {
          "base_uri": "https://localhost:8080/"
        },
        "id": "oazaAJKs4OMO",
        "outputId": "521ee64b-23d3-443a-bb0c-b261bd2fd79d"
      },
      "source": [
        "print('keys: ' + str(dic.keys()))"
      ],
      "execution_count": 6,
      "outputs": [
        {
          "output_type": "stream",
          "text": [
            "keys: dict_keys(['elemento1', 'elemento2', 'elemento3', 10, 1.3, True])\n"
          ],
          "name": "stdout"
        }
      ]
    },
    {
      "cell_type": "code",
      "metadata": {
        "colab": {
          "base_uri": "https://localhost:8080/"
        },
        "id": "GPVdtuDF4jlQ",
        "outputId": "80cddef4-451d-4903-c73f-69329d80ee9c"
      },
      "source": [
        "print('values: ' + str(dic.values()))"
      ],
      "execution_count": 7,
      "outputs": [
        {
          "output_type": "stream",
          "text": [
            "values: dict_values([10, 20, 'aula', 'numero', 'ponto flutuante', 'booleano'])\n"
          ],
          "name": "stdout"
        }
      ]
    },
    {
      "cell_type": "code",
      "metadata": {
        "colab": {
          "base_uri": "https://localhost:8080/"
        },
        "id": "-DNIPhSX4zve",
        "outputId": "3e8b3883-325e-4c37-9611-e1405439b661"
      },
      "source": [
        "print('items: ' + str(dic.items()))"
      ],
      "execution_count": 8,
      "outputs": [
        {
          "output_type": "stream",
          "text": [
            "items: dict_items([('elemento1', 10), ('elemento2', 20), ('elemento3', 'aula'), (10, 'numero'), (1.3, 'ponto flutuante'), (True, 'booleano')])\n"
          ],
          "name": "stdout"
        }
      ]
    },
    {
      "cell_type": "markdown",
      "metadata": {
        "id": "q3mx9Zhb5QhC"
      },
      "source": [
        "### Imprimindo chave e valor"
      ]
    },
    {
      "cell_type": "code",
      "metadata": {
        "colab": {
          "base_uri": "https://localhost:8080/"
        },
        "id": "C7MvP0YG43Wu",
        "outputId": "feb1f9bc-d112-4c9f-8487-75d18ede7358"
      },
      "source": [
        "for k in dic.keys():\n",
        "  print(k)"
      ],
      "execution_count": 10,
      "outputs": [
        {
          "output_type": "stream",
          "text": [
            "elemento1\n",
            "elemento2\n",
            "elemento3\n",
            "10\n",
            "1.3\n",
            "True\n"
          ],
          "name": "stdout"
        }
      ]
    },
    {
      "cell_type": "code",
      "metadata": {
        "colab": {
          "base_uri": "https://localhost:8080/"
        },
        "id": "QNVPUK6S42C3",
        "outputId": "b6f2f301-5663-4209-bae3-0e15d29036b9"
      },
      "source": [
        "for k in dic.keys():\n",
        "  print('chave: ' +str(k) + ' - valor: ' +str(dic[k]))"
      ],
      "execution_count": 14,
      "outputs": [
        {
          "output_type": "stream",
          "text": [
            "chave: elemento1 - valor: 10\n",
            "chave: elemento2 - valor: 20\n",
            "chave: elemento3 - valor: aula\n",
            "chave: 10 - valor: numero\n",
            "chave: 1.3 - valor: ponto flutuante\n",
            "chave: True - valor: booleano\n"
          ],
          "name": "stdout"
        }
      ]
    },
    {
      "cell_type": "markdown",
      "metadata": {
        "id": "X-ZwQI7a6Wcl"
      },
      "source": [
        "### Recebendo dados externos → arquivos\n"
      ]
    },
    {
      "cell_type": "markdown",
      "metadata": {
        "id": "dpufWnht7h7A"
      },
      "source": [
        "Criando um arquivo:\n",
        "\n",
        "- **r** - leitura de um arquivo;\n",
        "- **w** - escrita no arquivo;\n",
        "- **a** - escrita no final do arquivo;\n",
        "etc.\n",
        "- **close()** - fechar o arquivo.\n"
      ]
    },
    {
      "cell_type": "code",
      "metadata": {
        "id": "UW1xVyL550IP"
      },
      "source": [
        "arquivo = open('aula.txt', 'w')\n",
        "arquivo.write('python\\n')\n",
        "arquivo.write('pln\\n')\n",
        "arquivo.write('dicionários\\n')\n",
        "arquivo.close()"
      ],
      "execution_count": 46,
      "outputs": []
    },
    {
      "cell_type": "code",
      "metadata": {
        "colab": {
          "base_uri": "https://localhost:8080/"
        },
        "id": "ezX4ix1S8s3s",
        "outputId": "86719693-282e-4601-909b-a65e77f55a0f"
      },
      "source": [
        "print(arquivo)"
      ],
      "execution_count": 47,
      "outputs": [
        {
          "output_type": "stream",
          "text": [
            "<_io.TextIOWrapper name='aula.txt' mode='w' encoding='UTF-8'>\n"
          ],
          "name": "stdout"
        }
      ]
    },
    {
      "cell_type": "code",
      "metadata": {
        "colab": {
          "base_uri": "https://localhost:8080/"
        },
        "id": "v9UQck0U8ylE",
        "outputId": "8b829fcc-3d0f-46ca-fbb5-ddda8dff9c06"
      },
      "source": [
        "arquivo = open('aula.txt', 'r')\n",
        "print(arquivo.read())\n",
        "\n",
        "print(type(arquivo.read()))"
      ],
      "execution_count": 48,
      "outputs": [
        {
          "output_type": "stream",
          "text": [
            "python\n",
            "pln\n",
            "dicionários\n",
            "\n",
            "<class 'str'>\n"
          ],
          "name": "stdout"
        }
      ]
    },
    {
      "cell_type": "code",
      "metadata": {
        "colab": {
          "base_uri": "https://localhost:8080/"
        },
        "id": "zKkSTQmq9GQK",
        "outputId": "bd5123d1-6223-49b0-d1a2-62f07aad8a78"
      },
      "source": [
        "arquivo_rl = open('aula.txt', 'r')\n",
        "print(arquivo_rl.readlines())\n",
        "\n",
        "print(type(arquivo_rl.readlines()))"
      ],
      "execution_count": 49,
      "outputs": [
        {
          "output_type": "stream",
          "text": [
            "['python\\n', 'pln\\n', 'dicionários\\n']\n",
            "<class 'list'>\n"
          ],
          "name": "stdout"
        }
      ]
    },
    {
      "cell_type": "markdown",
      "metadata": {
        "id": "vMqJ2n52_7eN"
      },
      "source": [
        "Acrescentando elementos no arquivo:"
      ]
    },
    {
      "cell_type": "code",
      "metadata": {
        "id": "3zzRAp2b_M_W"
      },
      "source": [
        "arquivo = open('aula.txt', 'a')\n",
        "arquivo.write('linha1 \\n')\n",
        "arquivo.write('linha2 \\n')\n",
        "arquivo.write('linha3 \\n')\n",
        "arquivo.close()"
      ],
      "execution_count": 50,
      "outputs": []
    },
    {
      "cell_type": "code",
      "metadata": {
        "colab": {
          "base_uri": "https://localhost:8080/"
        },
        "id": "8vp1u6Pn_krN",
        "outputId": "db6d9966-d1ed-4613-828d-43a6c078b393"
      },
      "source": [
        "arquivo = open('aula.txt', 'r')\n",
        "print(arquivo.read())"
      ],
      "execution_count": 51,
      "outputs": [
        {
          "output_type": "stream",
          "text": [
            "python\n",
            "pln\n",
            "dicionários\n",
            "linha1 \n",
            "linha2 \n",
            "linha3 \n",
            "\n"
          ],
          "name": "stdout"
        }
      ]
    },
    {
      "cell_type": "markdown",
      "metadata": {
        "id": "4P44HbXs7pIb"
      },
      "source": [
        "Puxando arquivos do Google Drive:"
      ]
    },
    {
      "cell_type": "markdown",
      "metadata": {
        "id": "7rWZKNEpAimX"
      },
      "source": [
        "- Conectar na conta do drive: "
      ]
    },
    {
      "cell_type": "code",
      "metadata": {
        "colab": {
          "base_uri": "https://localhost:8080/"
        },
        "id": "u6x_4tDZAFyv",
        "outputId": "7882e5b5-95f6-4740-93cb-a32f48ea5c77"
      },
      "source": [
        "from google.colab import drive\n",
        "drive.mount('/content/drive')"
      ],
      "execution_count": 53,
      "outputs": [
        {
          "output_type": "stream",
          "text": [
            "Drive already mounted at /content/drive; to attempt to forcibly remount, call drive.mount(\"/content/drive\", force_remount=True).\n"
          ],
          "name": "stdout"
        }
      ]
    },
    {
      "cell_type": "markdown",
      "metadata": {
        "id": "ITiWWfw2Alb1"
      },
      "source": [
        "- Abrindo o arquivo:"
      ]
    },
    {
      "cell_type": "code",
      "metadata": {
        "colab": {
          "base_uri": "https://localhost:8080/"
        },
        "id": "8kNVaJshAWTx",
        "outputId": "bf54dbf4-5d37-4342-ecf7-05558455e25e"
      },
      "source": [
        "dados = open('/content/drive/MyDrive/Cursos/PLN_USP/qbdata.txt')\n",
        "print(dados.read())"
      ],
      "execution_count": 55,
      "outputs": [
        {
          "output_type": "stream",
          "text": [
            "Colt McCoy QB, CLE  135 222 1576    6   9   60.8%   74.5\n",
            "Josh Freeman QB, TB 291 474 3451    25  6   61.4%   95.9\n",
            "Michael Vick QB, PHI    233 372 3018    21  6   62.6%   100.2\n",
            "Matt Schaub QB, HOU 365 574 4370    24  12  63.6%   92.0\n",
            "Philip Rivers QB, SD    357 541 4710    30  13  66.0%   101.8\n",
            "Matt Hasselbeck QB, SEA 266 444 3001    12  17  59.9%   73.2\n",
            "Jimmy Clausen QB, CAR   157 299 1558    3   9   52.5%   58.4\n",
            "Joe Flacco QB, BAL  306 489 3622    25  10  62.6%   93.6\n",
            "Kyle Orton QB, DEN  293 498 3653    20  9   58.8%   87.5\n",
            "Jason Campbell QB, OAK  194 329 2387    13  8   59.0%   84.5\n",
            "Peyton Manning QB, IND  450 679 4700    33  17  66.3%   91.9\n",
            "Drew Brees QB, NO   448 658 4620    33  22  68.1%   90.9\n",
            "Matt Ryan QB, ATL   357 571 3705    28  9   62.5%   91.0\n",
            "Matt Cassel QB, KC  262 450 3116    27  7   58.2%   93.0\n",
            "Mark Sanchez QB, NYJ    278 507 3291    17  13  54.8%   75.3\n",
            "Brett Favre QB, MIN 217 358 2509    11  19  60.6%   69.9\n",
            "David Garrard QB, JAC   236 366 2734    23  15  64.5%   90.8\n",
            "Eli Manning QB, NYG 339 539 4002    31  25  62.9%   85.3\n",
            "Carson Palmer QB, CIN   362 586 3970    26  20  61.8%   82.4\n",
            "Alex Smith QB, SF   204 342 2370    14  10  59.6%   82.1\n",
            "Chad Henne QB, MIA  301 490 3301    15  19  61.4%   75.4\n",
            "Tony Romo QB, DAL   148 213 1605    11  7   69.5%   94.9\n",
            "Jay Cutler QB, CHI  261 432 3274    23  16  60.4%   86.3\n",
            "Jon Kitna QB, DAL   209 318 2365    16  12  65.7%   88.9\n",
            "Tom Brady QB, NE    324 492 3900    36  4   65.9%   111.0\n",
            "Ben Roethlisberger QB, PIT  240 389 3200    17  5   61.7%   97.0\n",
            "Kerry Collins QB, TEN   160 278 1823    14  8   57.6%   82.2\n",
            "Derek Anderson QB, ARI  169 327 2065    7   10  51.7%   65.9\n",
            "Ryan Fitzpatrick QB, BUF    255 441 3000    23  15  57.8%   81.8\n",
            "Donovan McNabb QB, WAS  275 472 3377    14  15  58.3%   77.1\n",
            "Kevin Kolb QB, PHI  115 189 1197    7   7   60.8%   76.1\n",
            "Aaron Rodgers QB, GB    312 475 3922    28  11  65.7%   101.2\n",
            "Sam Bradford QB, STL    354 590 3512    18  15  60.0%   76.5\n",
            "Shaun Hill QB, DET  257 416 2686    16  12  61.8%   81.3\n"
          ],
          "name": "stdout"
        }
      ]
    },
    {
      "cell_type": "markdown",
      "metadata": {
        "id": "4R720wQ9BM1x"
      },
      "source": [
        "*obs: nomes dos quarterbacks da MBA e alguns outros dados que serão usados no projeto final do curso.*\n"
      ]
    },
    {
      "cell_type": "markdown",
      "metadata": {
        "id": "Dp7qU_94Byqy"
      },
      "source": [
        "Outro jeito de abrir um arquivo:"
      ]
    },
    {
      "cell_type": "code",
      "metadata": {
        "colab": {
          "base_uri": "https://localhost:8080/"
        },
        "id": "ct_664OeBCp4",
        "outputId": "d0d05ae9-b4af-4911-b9fb-3c05a0af73fa"
      },
      "source": [
        "with open('/content/drive/MyDrive/Cursos/PLN_USP/qbdata.txt', 'r') as dados:\n",
        "  print(dados.read())"
      ],
      "execution_count": 59,
      "outputs": [
        {
          "output_type": "stream",
          "text": [
            "Colt McCoy QB, CLE  135 222 1576    6   9   60.8%   74.5\n",
            "Josh Freeman QB, TB 291 474 3451    25  6   61.4%   95.9\n",
            "Michael Vick QB, PHI    233 372 3018    21  6   62.6%   100.2\n",
            "Matt Schaub QB, HOU 365 574 4370    24  12  63.6%   92.0\n",
            "Philip Rivers QB, SD    357 541 4710    30  13  66.0%   101.8\n",
            "Matt Hasselbeck QB, SEA 266 444 3001    12  17  59.9%   73.2\n",
            "Jimmy Clausen QB, CAR   157 299 1558    3   9   52.5%   58.4\n",
            "Joe Flacco QB, BAL  306 489 3622    25  10  62.6%   93.6\n",
            "Kyle Orton QB, DEN  293 498 3653    20  9   58.8%   87.5\n",
            "Jason Campbell QB, OAK  194 329 2387    13  8   59.0%   84.5\n",
            "Peyton Manning QB, IND  450 679 4700    33  17  66.3%   91.9\n",
            "Drew Brees QB, NO   448 658 4620    33  22  68.1%   90.9\n",
            "Matt Ryan QB, ATL   357 571 3705    28  9   62.5%   91.0\n",
            "Matt Cassel QB, KC  262 450 3116    27  7   58.2%   93.0\n",
            "Mark Sanchez QB, NYJ    278 507 3291    17  13  54.8%   75.3\n",
            "Brett Favre QB, MIN 217 358 2509    11  19  60.6%   69.9\n",
            "David Garrard QB, JAC   236 366 2734    23  15  64.5%   90.8\n",
            "Eli Manning QB, NYG 339 539 4002    31  25  62.9%   85.3\n",
            "Carson Palmer QB, CIN   362 586 3970    26  20  61.8%   82.4\n",
            "Alex Smith QB, SF   204 342 2370    14  10  59.6%   82.1\n",
            "Chad Henne QB, MIA  301 490 3301    15  19  61.4%   75.4\n",
            "Tony Romo QB, DAL   148 213 1605    11  7   69.5%   94.9\n",
            "Jay Cutler QB, CHI  261 432 3274    23  16  60.4%   86.3\n",
            "Jon Kitna QB, DAL   209 318 2365    16  12  65.7%   88.9\n",
            "Tom Brady QB, NE    324 492 3900    36  4   65.9%   111.0\n",
            "Ben Roethlisberger QB, PIT  240 389 3200    17  5   61.7%   97.0\n",
            "Kerry Collins QB, TEN   160 278 1823    14  8   57.6%   82.2\n",
            "Derek Anderson QB, ARI  169 327 2065    7   10  51.7%   65.9\n",
            "Ryan Fitzpatrick QB, BUF    255 441 3000    23  15  57.8%   81.8\n",
            "Donovan McNabb QB, WAS  275 472 3377    14  15  58.3%   77.1\n",
            "Kevin Kolb QB, PHI  115 189 1197    7   7   60.8%   76.1\n",
            "Aaron Rodgers QB, GB    312 475 3922    28  11  65.7%   101.2\n",
            "Sam Bradford QB, STL    354 590 3512    18  15  60.0%   76.5\n",
            "Shaun Hill QB, DET  257 416 2686    16  12  61.8%   81.3\n"
          ],
          "name": "stdout"
        }
      ]
    },
    {
      "cell_type": "markdown",
      "metadata": {
        "id": "5ncWvjePGTPi"
      },
      "source": [
        "### **Strings:**"
      ]
    },
    {
      "cell_type": "markdown",
      "metadata": {
        "id": "oF06VJ1lGVDS"
      },
      "source": [
        "Algumas funções importantes:\n",
        "\n",
        "- **len()** - retorna o tamanho da string;\n",
        "- **strip()** - elimina elementos não textuais;\n",
        "- **lower()** - retorna tudo minúsculo;\n",
        "- **upper()** - retorna tudo maiúsculo;\n",
        "- **replace** - substitui uma ou mais strings;\n",
        "- **split()** - quebra a string em várias partes;\n",
        "- **join()** - juntar novamente as partes separadas;\n",
        "\n",
        "> [documentação de strings](https://www.w3schools.com/python/python_strings.asp).\n",
        "\n"
      ]
    },
    {
      "cell_type": "code",
      "metadata": {
        "colab": {
          "base_uri": "https://localhost:8080/"
        },
        "id": "GxwG9w9XHAAA",
        "outputId": "0b497e37-51af-4d32-f54c-0682bfec282b"
      },
      "source": [
        "s = 'Python'\n",
        "s = s + ' para PLN'\n",
        "print(s)\n",
        "\n",
        "s = s + ' Edição ' + str(2.0)\n",
        "print(s)"
      ],
      "execution_count": 70,
      "outputs": [
        {
          "output_type": "stream",
          "text": [
            "Python para PLN\n",
            "Python para PLN Edição 2.0\n"
          ],
          "name": "stdout"
        }
      ]
    },
    {
      "cell_type": "code",
      "metadata": {
        "colab": {
          "base_uri": "https://localhost:8080/"
        },
        "id": "6Z03yuRjHscx",
        "outputId": "954872c6-c388-435f-ed92-065479c54065"
      },
      "source": [
        "print(len(s))"
      ],
      "execution_count": 71,
      "outputs": [
        {
          "output_type": "stream",
          "text": [
            "26\n"
          ],
          "name": "stdout"
        }
      ]
    },
    {
      "cell_type": "code",
      "metadata": {
        "colab": {
          "base_uri": "https://localhost:8080/"
        },
        "id": "N0c1i4opHvx2",
        "outputId": "28a73e31-11b6-4929-e9da-d2d3d903439e"
      },
      "source": [
        "print(s.strip())"
      ],
      "execution_count": 72,
      "outputs": [
        {
          "output_type": "stream",
          "text": [
            "Python para PLN Edição 2.0\n"
          ],
          "name": "stdout"
        }
      ]
    },
    {
      "cell_type": "code",
      "metadata": {
        "colab": {
          "base_uri": "https://localhost:8080/"
        },
        "id": "3MjVCanNIDTa",
        "outputId": "0fb9d3f0-9592-4b1e-95bc-3bc13197c288"
      },
      "source": [
        "print(s.lower())"
      ],
      "execution_count": 73,
      "outputs": [
        {
          "output_type": "stream",
          "text": [
            "python para pln edição 2.0\n"
          ],
          "name": "stdout"
        }
      ]
    },
    {
      "cell_type": "code",
      "metadata": {
        "colab": {
          "base_uri": "https://localhost:8080/"
        },
        "id": "59kQNHsFIDG5",
        "outputId": "b1e38cb7-5bf1-4b0f-9d30-7112c693ea47"
      },
      "source": [
        "print(s.upper())"
      ],
      "execution_count": 74,
      "outputs": [
        {
          "output_type": "stream",
          "text": [
            "PYTHON PARA PLN EDIÇÃO 2.0\n"
          ],
          "name": "stdout"
        }
      ]
    },
    {
      "cell_type": "code",
      "metadata": {
        "colab": {
          "base_uri": "https://localhost:8080/"
        },
        "id": "1oVUTHynIC4N",
        "outputId": "3e61ead5-3fbc-4a5a-c441-71313d5ffd06"
      },
      "source": [
        "print(s.replace('p', 'P'))"
      ],
      "execution_count": 75,
      "outputs": [
        {
          "output_type": "stream",
          "text": [
            "Python Para PLN Edição 2.0\n"
          ],
          "name": "stdout"
        }
      ]
    },
    {
      "cell_type": "code",
      "metadata": {
        "colab": {
          "base_uri": "https://localhost:8080/"
        },
        "id": "sWPpZBykIO1m",
        "outputId": "c7478952-4e37-42e7-ded0-05e17bf653db"
      },
      "source": [
        "separado = s.split()\n",
        "print(separado)"
      ],
      "execution_count": 76,
      "outputs": [
        {
          "output_type": "stream",
          "text": [
            "['Python', 'para', 'PLN', 'Edição', '2.0']\n"
          ],
          "name": "stdout"
        }
      ]
    },
    {
      "cell_type": "code",
      "metadata": {
        "colab": {
          "base_uri": "https://localhost:8080/"
        },
        "id": "Npca4e7ZIW_T",
        "outputId": "23bbf363-3572-4163-8de8-9f1fb83db98e"
      },
      "source": [
        "print('_'.join(separado))"
      ],
      "execution_count": 78,
      "outputs": [
        {
          "output_type": "stream",
          "text": [
            "Python_para_PLN_Edição_2.0\n"
          ],
          "name": "stdout"
        }
      ]
    },
    {
      "cell_type": "markdown",
      "metadata": {
        "id": "BF-dyAmsF5pk"
      },
      "source": [
        "*A aula ocorreu no dia 12 de maio de 2021, das 14h às 18h.*"
      ]
    }
  ]
}